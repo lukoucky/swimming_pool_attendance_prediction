{
 "cells": [
  {
   "cell_type": "markdown",
   "metadata": {},
   "source": [
    "# Grid Search\n",
    "This notebook contatins code used to run grid search on all tree algorithms plus "
   ]
  },
  {
   "cell_type": "code",
   "execution_count": null,
   "metadata": {},
   "outputs": [],
   "source": [
    "from sklearn.ensemble import RandomForestClassifier\n",
    "from sklearn.ensemble import RandomForestRegressor\n",
    "from sklearn.ensemble import ExtraTreesClassifier\n",
    "from sklearn.svm import SVC\n",
    "from sklearn.ensemble import AdaBoostClassifier\n",
    "from data_helper import DataHelper\n",
    "from grid_search import MyGridSearch\n",
    "from models.monthly_average import MonthlyAverageClassifier\n",
    "import pandas as pd"
   ]
  },
  {
   "cell_type": "code",
   "execution_count": null,
   "metadata": {},
   "outputs": [],
   "source": [
    "dh = DataHelper()\n",
    "days = dh.get_all_days_list()\n",
    "\n",
    "data = []\n",
    "for day in days:\n",
    "    data.append(day.get_normalized_data())\n",
    "\n",
    "df = pd.concat(data)\n",
    "df.describe()"
   ]
  },
  {
   "cell_type": "code",
   "execution_count": null,
   "metadata": {},
   "outputs": [],
   "source": [
    "parameteres = {\t'n_estimators': [30],\n",
    "                'max_depth': [20,35,50],\n",
    "                'min_samples_split':[2, 3, 5],\n",
    "                'min_samples_leaf':[1,2,5],\n",
    "                'max_features':[20,40,60],\n",
    "                'max_leaf_nodes':[None]}\n",
    "columns = ['pool','day_of_week','month','minute_of_day', 'year', 'reserved_Vodnik','lines_reserved']\n",
    "columns = list(dh.get_all_columns_names())\n",
    "columns.remove('time')\n",
    "mgs = MyGridSearch('RandomForestRegressor',parameteres)\n",
    "mgs.fit(columns)"
   ]
  },
  {
   "cell_type": "code",
   "execution_count": null,
   "metadata": {},
   "outputs": [],
   "source": [
    "time_step_back = 10\n",
    "parameteres = {\t'n_estimators': [50],\n",
    "                'max_depth': [35],\n",
    "                'min_samples_split':[2],\n",
    "                'min_samples_leaf':[1],\n",
    "                'max_features':[40],\n",
    "                'max_leaf_nodes':[None]}\n",
    "columns = ['pool','day_of_week','month','minute_of_day', 'year', 'reserved_Vodnik','lines_reserved']\n",
    "columns = list(dh.get_all_columns_names())\n",
    "columns.remove('time')\n",
    "mgs = MyGridSearch('ExtraTreesRegressor',parameteres)\n",
    "mgs.fit(columns, time_step_back)"
   ]
  },
  {
   "cell_type": "code",
   "execution_count": null,
   "metadata": {},
   "outputs": [],
   "source": [
    "#(random_state=17, n_estimators=10, max_depth=50, min_samples_split=5, min_samples_leaf=2) ,ts = 10, mse = 1146\n",
    "\n",
    "dh = DataHelper()\n",
    "time_step_back = 10\n",
    "parameteres = {\t'n_estimators': [10],\n",
    "                'max_depth': [50],\n",
    "                'min_samples_split':[5],\n",
    "                'min_samples_leaf':[2]}\n",
    "columns = ['pool','day_of_week','month','minute_of_day', 'year', 'reserved_Vodnik','lines_reserved']\n",
    "# columns = list(dh.get_all_columns_names())\n",
    "# columns.remove('time')\n",
    "mgs = MyGridSearch('ExtraTreesClassifier',parameteres)\n",
    "mgs.fit(columns, time_step_back)\n",
    "dh.show_n_days_prediction(mgs.best_estimator, columns, 6, time_step_back)"
   ]
  },
  {
   "cell_type": "code",
   "execution_count": null,
   "metadata": {},
   "outputs": [],
   "source": [
    "dh = DataHelper()\n",
    "time_step_back = 5\n",
    "parameteres = {\t'n_estimators': [10],\n",
    "                'max_depth': [30,50],\n",
    "                'min_samples_split':[2,5,10],\n",
    "                'min_samples_leaf':[1,2]}\n",
    "columns = ['pool','day_of_week','month','minute_of_day', 'year', 'reserved_Vodnik','lines_reserved']\n",
    "# columns = list(dh.get_all_columns_names())\n",
    "# columns.remove('time')\n",
    "mgs = MyGridSearch('RandomForestClassifier',parameteres)\n",
    "mgs.fit(columns, time_step_back)\n",
    "dh.show_n_days_prediction(mgs.best_estimator, columns, 6, time_step_back)"
   ]
  },
  {
   "cell_type": "code",
   "execution_count": null,
   "metadata": {},
   "outputs": [],
   "source": [
    "dh = DataHelper()\n",
    "columns = ['pool','day_of_week','month','minute_of_day', 'year', 'reserved_Vodnik','lines_reserved']"
   ]
  },
  {
   "cell_type": "code",
   "execution_count": null,
   "metadata": {},
   "outputs": [],
   "source": [
    "dh.show_n_days_prediction(mgs.best_estimator, columns, days=26, time_steps_back=time_step_back)"
   ]
  },
  {
   "cell_type": "code",
   "execution_count": null,
   "metadata": {},
   "outputs": [],
   "source": [
    "mac = MonthlyAverageClassifier()\n",
    "columns = list(dh.get_all_columns_names())\n",
    "columns.remove('time')\n",
    "mac.fit(dh.get_training_days(), columns)\n",
    "score = dh.mse_on_testing_days(mac, columns)\n",
    "print('MSE = %.1f' % (score))"
   ]
  },
  {
   "cell_type": "code",
   "execution_count": null,
   "metadata": {},
   "outputs": [],
   "source": []
  }
 ],
 "metadata": {
  "kernelspec": {
   "display_name": "Python 3",
   "language": "python",
   "name": "python3"
  },
  "language_info": {
   "codemirror_mode": {
    "name": "ipython",
    "version": 3
   },
   "file_extension": ".py",
   "mimetype": "text/x-python",
   "name": "python",
   "nbconvert_exporter": "python",
   "pygments_lexer": "ipython3",
   "version": "3.7.7"
  }
 },
 "nbformat": 4,
 "nbformat_minor": 2
}
