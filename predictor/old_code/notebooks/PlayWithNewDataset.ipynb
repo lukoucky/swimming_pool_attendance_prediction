{
 "cells": [
  {
   "cell_type": "code",
   "execution_count": null,
   "metadata": {},
   "outputs": [],
   "source": [
    "from days_statistics import DaysStatistics\n",
    "from data_helper import DataHelper\n",
    "from sklearn.ensemble import ExtraTreesRegressor\n",
    "import pickle\n",
    "import pandas as pd\n",
    "import numpy as np\n",
    "from sklearn.metrics import mean_squared_error\n",
    "from datetime import datetime\n",
    "from datetime import timedelta\n",
    "import matplotlib.pyplot as plt\n",
    "from matplotlib.ticker import (AutoMinorLocator, MultipleLocator)\n",
    "from models.tree_models import MyExtraTreesRegressor, DoubleExtraTreesRegressor\n",
    "%matplotlib inline"
   ]
  },
  {
   "cell_type": "code",
   "execution_count": null,
   "metadata": {},
   "outputs": [],
   "source": [
    "dh = DataHelper()\n",
    "days_train = dh.get_training_days(False)\n",
    "days_test = dh.get_testing_days()\n",
    "days_valid  = dh.get_validation_days()\n",
    "print(len(days_train), len(days_test), len(days_valid))"
   ]
  },
  {
   "cell_type": "code",
   "execution_count": null,
   "metadata": {},
   "outputs": [],
   "source": [
    "def prepare_plot(size=(16,9), ax=None, y_max=250, every_hour=True, no_y_change=False):\n",
    "    if ax is None:\n",
    "        fig, ax = plt.subplots(figsize=size)\n",
    "\n",
    "    ax.set_xlim(60, 276)\n",
    "    ax.set_ylim(0, y_max)\n",
    "    \n",
    "    if False == no_y_change:\n",
    "        ax.yaxis.set_major_locator(MultipleLocator(50))\n",
    "        ax.yaxis.set_minor_locator(AutoMinorLocator(5))\n",
    "    \n",
    "    if every_hour:\n",
    "        ax.xaxis.set_major_locator(MultipleLocator(12))\n",
    "        ax.xaxis.set_minor_locator(AutoMinorLocator(4))\n",
    "    else:\n",
    "        ax.xaxis.set_major_locator(MultipleLocator(24))\n",
    "        ax.xaxis.set_minor_locator(AutoMinorLocator(9))\n",
    "    \n",
    "    # Turn grid on for both major and minor ticks and style minor slightly\n",
    "    # differently.\n",
    "    ax.grid(which='major', color='#CCCCCC', linestyle='--')\n",
    "    ax.grid(which='minor', color='#CCCCCC', linestyle=':')\n",
    "    ax.set_xlabel('Time [hour:minute]', fontsize=14)\n",
    "    ax.set_ylabel('Pool attendance', fontsize=14)\n",
    "    return ax"
   ]
  },
  {
   "cell_type": "code",
   "execution_count": null,
   "metadata": {},
   "outputs": [],
   "source": [
    "dh = DataHelper()\n",
    "etr = MyExtraTreesRegressor()\n",
    "etr.load_model()\n",
    "test_day_ids = [76,71,45,96,26,245]\n",
    "predictions = []\n",
    "labels = []\n",
    "ground_truth = []\n",
    "offset = []\n",
    "days_list = dh.get_testing_days()\n",
    "\n",
    "for day_id in test_day_ids:\n",
    "    x, y = dh.get_test_day_feature_vectors(day_id, etr.columns, etr.time_steps_back)\n",
    "    y_pred = dh.predict_day_from_features(x, etr.model, etr.time_steps_back)\n",
    "    day_date = days_list[day_id].data['time'].iloc[0][:10]\n",
    "    \n",
    "    predictions.append(y_pred)\n",
    "    ground_truth.append(y)\n",
    "    mse = mean_squared_error(y_pred, y)\n",
    "    \n",
    "    labels.append('%s - MSE = %.0f' % (day_date, mse))"
   ]
  },
  {
   "cell_type": "code",
   "execution_count": null,
   "metadata": {},
   "outputs": [],
   "source": [
    "a = datetime(2000, 1, 1, 23, 55, 0, 342380)\n",
    "y = []\n",
    "for i in range(288):\n",
    "    a = a + timedelta(minutes=5)\n",
    "    y.append(a.strftime('%H:%M'))\n",
    "\n",
    "fig, axs = plt.subplots(3, 2, figsize=(16,16), gridspec_kw={'hspace': 0.4})\n",
    "column = 0\n",
    "row = 0\n",
    "for i, day_id in enumerate(test_day_ids):\n",
    "    prepare_plot((8,3), axs[row, column], 300, False)\n",
    "    axs[row, column].set_title(labels[i], fontsize=14)\n",
    "    l1 = axs[row, column].plot(y,predictions[i], label='Prediction')\n",
    "    l2 = axs[row, column].plot(y,ground_truth[i], label='Ground truth')\n",
    "    \n",
    "    if column == 0 and row == 0:    \n",
    "        axs[row, column].legend(prop={'size': 18})\n",
    "\n",
    "    column += 1\n",
    "    if column > 1:\n",
    "        column = 0\n",
    "        row += 1"
   ]
  },
  {
   "cell_type": "code",
   "execution_count": null,
   "metadata": {},
   "outputs": [],
   "source": [
    "dh = DataHelper()\n",
    "etr = DoubleExtraTreesRegressor()\n",
    "# etr.fit_on_training_set()\n",
    "# etr.save_model()\n",
    "etr.load_model()\n",
    "etr.print_mse()\n",
    "etr.show_n_predictions(50)"
   ]
  },
  {
   "cell_type": "code",
   "execution_count": null,
   "metadata": {},
   "outputs": [],
   "source": []
  }
 ],
 "metadata": {
  "kernelspec": {
   "display_name": "Python 3",
   "language": "python",
   "name": "python3"
  },
  "language_info": {
   "codemirror_mode": {
    "name": "ipython",
    "version": 3
   },
   "file_extension": ".py",
   "mimetype": "text/x-python",
   "name": "python",
   "nbconvert_exporter": "python",
   "pygments_lexer": "ipython3",
   "version": "3.7.7"
  }
 },
 "nbformat": 4,
 "nbformat_minor": 2
}
