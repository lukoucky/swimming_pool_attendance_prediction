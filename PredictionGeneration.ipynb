{
 "cells": [
  {
   "cell_type": "code",
   "execution_count": 1,
   "metadata": {},
   "outputs": [],
   "source": [
    "from models.tree_models import MyExtraTreesRegressor, DoubleExtraTreesRegressor\n",
    "from models.monthly_average import MonthlyAverageClassifier\n",
    "from data_helper import DataHelper\n",
    "from models.perceptron import LinearStructuredOutputClassifier, MultiClassLinearClassifier\n",
    "from days_statistics import DaysStatistics\n",
    "from datetime import timedelta, date, datetime\n",
    "import pandas as pd\n",
    "import os\n",
    "import json\n",
    "import requests\n",
    "import matplotlib.pyplot as plt\n",
    "from matplotlib.ticker import (AutoMinorLocator, MultipleLocator)\n",
    "from models.tree_models import MyExtraTreesRegressor, MyExtraTreesClassifier, MyRandomForestRegressor, MyRandomForestClassifier\n",
    "from bs4 import BeautifulSoup\n",
    "import urllib.request\n",
    "import sys\n",
    "import unicodedata\n",
    "%matplotlib inline"
   ]
  },
  {
   "cell_type": "code",
   "execution_count": 2,
   "metadata": {},
   "outputs": [],
   "source": [
    "import numpy as np\n",
    "np.set_printoptions(suppress=True)"
   ]
  },
  {
   "cell_type": "code",
   "execution_count": null,
   "metadata": {},
   "outputs": [],
   "source": [
    "def generate_prediction(self, predictor, prediction_date, export_folder):\n",
    "    for single_day in self.daterange(start_date, end_date):\n",
    "        if single_day.weekday() > 4:\n",
    "            start_minute = 480\n",
    "            start_hour = 8\n",
    "            self.prediction_steps = 169\n",
    "        else:\n",
    "            self.prediction_steps = 217\n",
    "            start_hour = 4\n",
    "            start_minute = 240\n",
    "\n",
    "        data_dict = {\n",
    "            'month' : int(single_day.strftime('%m')),\n",
    "            'day' : int(single_day.strftime('%d')),\n",
    "            'hour' : start_hour,\n",
    "            'minute' : 0,\n",
    "            'minute_of_day' : start_minute,\n",
    "            'year' : int(single_day.strftime('%Y')),\n",
    "            'day_of_week' : single_day.weekday(),\n",
    "            'temperature_binned':3,\n",
    "            'wind_binned':1,\n",
    "            'humidity_binned':3,\n",
    "            'precipitation_binned':0,\n",
    "            'pressure_binned':2\n",
    "        }\n",
    "\n",
    "        for column in columns:\n",
    "            if column.startswith('reserved'):\n",
    "                data_dict[column] = 0\n",
    "        x, y = self.prepare_feature_vectors(columns, data_dict, time_steps_back,self.get_lines_usage_for_day(single_day))\n",
    "        y_pred = self.dh.predict_day_from_features(x, estimator, time_steps_back)\n",
    "        self.export_prediction(y_pred, single_day.weekday(), int(single_day.strftime('%m')), int(single_day.strftime('%d')))\n",
    "\n",
    "\n",
    "start_date = datetime.now() + timedelta(days=i)\n",
    "end_date = datetime.now()+ timedelta(days=i+1)\n",
    "generate_predictions(clf.model, start_date, end_date, 'export_'+clf.name, clf.columns, clf.time_steps_back)"
   ]
  },
  {
   "cell_type": "code",
   "execution_count": null,
   "metadata": {},
   "outputs": [],
   "source": []
  },
  {
   "cell_type": "code",
   "execution_count": 28,
   "metadata": {},
   "outputs": [],
   "source": [
    "api_response = '{\"cod\":\"200\",\"message\":0,\"cnt\":40,\"list\":[{\"dt\":1578830400,\"main\":{\"temp\":5.62,\"feels_like\":1.07,\"temp_min\":4.3,\"temp_max\":5.62,\"pressure\":1026,\"sea_level\":1026,\"grnd_level\":986,\"humidity\":62,\"temp_kf\":1.32},\"weather\":[{\"id\":802,\"main\":\"Clouds\",\"description\":\"scattered clouds\",\"icon\":\"03d\"}],\"clouds\":{\"all\":26},\"wind\":{\"speed\":3.45,\"deg\":200},\"sys\":{\"pod\":\"d\"},\"dt_txt\":\"2020-01-12 12:00:00\"},{\"dt\":1578841200,\"main\":{\"temp\":4.12,\"feels_like\":-0.55,\"temp_min\":3.13,\"temp_max\":4.12,\"pressure\":1025,\"sea_level\":1025,\"grnd_level\":985,\"humidity\":68,\"temp_kf\":0.99},\"weather\":[{\"id\":804,\"main\":\"Clouds\",\"description\":\"overcast clouds\",\"icon\":\"04d\"}],\"clouds\":{\"all\":100},\"wind\":{\"speed\":3.58,\"deg\":198},\"sys\":{\"pod\":\"d\"},\"dt_txt\":\"2020-01-12 15:00:00\"},{\"dt\":1578852000,\"main\":{\"temp\":2.46,\"feels_like\":-2.74,\"temp_min\":1.8,\"temp_max\":2.46,\"pressure\":1026,\"sea_level\":1026,\"grnd_level\":985,\"humidity\":72,\"temp_kf\":0.66},\"weather\":[{\"id\":804,\"main\":\"Clouds\",\"description\":\"overcast clouds\",\"icon\":\"04n\"}],\"clouds\":{\"all\":98},\"wind\":{\"speed\":4.19,\"deg\":217},\"sys\":{\"pod\":\"n\"},\"dt_txt\":\"2020-01-12 18:00:00\"},{\"dt\":1578862800,\"main\":{\"temp\":2.45,\"feels_like\":-2.87,\"temp_min\":2.12,\"temp_max\":2.45,\"pressure\":1026,\"sea_level\":1026,\"grnd_level\":985,\"humidity\":79,\"temp_kf\":0.33},\"weather\":[{\"id\":802,\"main\":\"Clouds\",\"description\":\"scattered clouds\",\"icon\":\"03n\"}],\"clouds\":{\"all\":47},\"wind\":{\"speed\":4.6,\"deg\":234},\"sys\":{\"pod\":\"n\"},\"dt_txt\":\"2020-01-12 21:00:00\"},{\"dt\":1578873600,\"main\":{\"temp\":2.31,\"feels_like\":-2.01,\"temp_min\":2.31,\"temp_max\":2.31,\"pressure\":1026,\"sea_level\":1026,\"grnd_level\":986,\"humidity\":85,\"temp_kf\":0},\"weather\":[{\"id\":803,\"main\":\"Clouds\",\"description\":\"broken clouds\",\"icon\":\"04n\"}],\"clouds\":{\"all\":74},\"wind\":{\"speed\":3.34,\"deg\":218},\"sys\":{\"pod\":\"n\"},\"dt_txt\":\"2020-01-13 00:00:00\"},{\"dt\":1578884400,\"main\":{\"temp\":1.71,\"feels_like\":-2.8,\"temp_min\":1.71,\"temp_max\":1.71,\"pressure\":1025,\"sea_level\":1025,\"grnd_level\":986,\"humidity\":89,\"temp_kf\":0},\"weather\":[{\"id\":804,\"main\":\"Clouds\",\"description\":\"overcast clouds\",\"icon\":\"04n\"}],\"clouds\":{\"all\":98},\"wind\":{\"speed\":3.62,\"deg\":240},\"sys\":{\"pod\":\"n\"},\"dt_txt\":\"2020-01-13 03:00:00\"},{\"dt\":1578895200,\"main\":{\"temp\":2,\"feels_like\":-2.55,\"temp_min\":2,\"temp_max\":2,\"pressure\":1026,\"sea_level\":1026,\"grnd_level\":986,\"humidity\":89,\"temp_kf\":0},\"weather\":[{\"id\":804,\"main\":\"Clouds\",\"description\":\"overcast clouds\",\"icon\":\"04n\"}],\"clouds\":{\"all\":99},\"wind\":{\"speed\":3.75,\"deg\":205},\"sys\":{\"pod\":\"n\"},\"dt_txt\":\"2020-01-13 06:00:00\"},{\"dt\":1578906000,\"main\":{\"temp\":3.46,\"feels_like\":-0.48,\"temp_min\":3.46,\"temp_max\":3.46,\"pressure\":1025,\"sea_level\":1025,\"grnd_level\":984,\"humidity\":83,\"temp_kf\":0},\"weather\":[{\"id\":804,\"main\":\"Clouds\",\"description\":\"overcast clouds\",\"icon\":\"04d\"}],\"clouds\":{\"all\":100},\"wind\":{\"speed\":2.98,\"deg\":207},\"sys\":{\"pod\":\"d\"},\"dt_txt\":\"2020-01-13 09:00:00\"},{\"dt\":1578916800,\"main\":{\"temp\":5.88,\"feels_like\":2.84,\"temp_min\":5.88,\"temp_max\":5.88,\"pressure\":1023,\"sea_level\":1023,\"grnd_level\":984,\"humidity\":75,\"temp_kf\":0},\"weather\":[{\"id\":804,\"main\":\"Clouds\",\"description\":\"overcast clouds\",\"icon\":\"04d\"}],\"clouds\":{\"all\":100},\"wind\":{\"speed\":1.9,\"deg\":224},\"sys\":{\"pod\":\"d\"},\"dt_txt\":\"2020-01-13 12:00:00\"},{\"dt\":1578927600,\"main\":{\"temp\":3.73,\"feels_like\":0.83,\"temp_min\":3.73,\"temp_max\":3.73,\"pressure\":1021,\"sea_level\":1021,\"grnd_level\":982,\"humidity\":84,\"temp_kf\":0},\"weather\":[{\"id\":804,\"main\":\"Clouds\",\"description\":\"overcast clouds\",\"icon\":\"04d\"}],\"clouds\":{\"all\":100},\"wind\":{\"speed\":1.58,\"deg\":151},\"sys\":{\"pod\":\"d\"},\"dt_txt\":\"2020-01-13 15:00:00\"},{\"dt\":1578938400,\"main\":{\"temp\":2.41,\"feels_like\":-1.26,\"temp_min\":2.41,\"temp_max\":2.41,\"pressure\":1021,\"sea_level\":1021,\"grnd_level\":981,\"humidity\":86,\"temp_kf\":0},\"weather\":[{\"id\":804,\"main\":\"Clouds\",\"description\":\"overcast clouds\",\"icon\":\"04n\"}],\"clouds\":{\"all\":100},\"wind\":{\"speed\":2.47,\"deg\":172},\"sys\":{\"pod\":\"n\"},\"dt_txt\":\"2020-01-13 18:00:00\"},{\"dt\":1578949200,\"main\":{\"temp\":1.45,\"feels_like\":-3.21,\"temp_min\":1.45,\"temp_max\":1.45,\"pressure\":1020,\"sea_level\":1020,\"grnd_level\":980,\"humidity\":78,\"temp_kf\":0},\"weather\":[{\"id\":804,\"main\":\"Clouds\",\"description\":\"overcast clouds\",\"icon\":\"04n\"}],\"clouds\":{\"all\":98},\"wind\":{\"speed\":3.44,\"deg\":178},\"sys\":{\"pod\":\"n\"},\"dt_txt\":\"2020-01-13 21:00:00\"},{\"dt\":1578960000,\"main\":{\"temp\":1,\"feels_like\":-3.23,\"temp_min\":1,\"temp_max\":1,\"pressure\":1019,\"sea_level\":1019,\"grnd_level\":980,\"humidity\":78,\"temp_kf\":0},\"weather\":[{\"id\":804,\"main\":\"Clouds\",\"description\":\"overcast clouds\",\"icon\":\"04n\"}],\"clouds\":{\"all\":94},\"wind\":{\"speed\":2.74,\"deg\":188},\"sys\":{\"pod\":\"n\"},\"dt_txt\":\"2020-01-14 00:00:00\"},{\"dt\":1578970800,\"main\":{\"temp\":-0.46,\"feels_like\":-4.62,\"temp_min\":-0.46,\"temp_max\":-0.46,\"pressure\":1017,\"sea_level\":1017,\"grnd_level\":978,\"humidity\":87,\"temp_kf\":0},\"weather\":[{\"id\":802,\"main\":\"Clouds\",\"description\":\"scattered clouds\",\"icon\":\"03n\"}],\"clouds\":{\"all\":39},\"wind\":{\"speed\":2.65,\"deg\":173},\"sys\":{\"pod\":\"n\"},\"dt_txt\":\"2020-01-14 03:00:00\"},{\"dt\":1578981600,\"main\":{\"temp\":-0.22,\"feels_like\":-4.02,\"temp_min\":-0.22,\"temp_max\":-0.22,\"pressure\":1018,\"sea_level\":1018,\"grnd_level\":978,\"humidity\":88,\"temp_kf\":0},\"weather\":[{\"id\":803,\"main\":\"Clouds\",\"description\":\"broken clouds\",\"icon\":\"04n\"}],\"clouds\":{\"all\":69},\"wind\":{\"speed\":2.21,\"deg\":168},\"sys\":{\"pod\":\"n\"},\"dt_txt\":\"2020-01-14 06:00:00\"},{\"dt\":1578992400,\"main\":{\"temp\":2,\"feels_like\":-2.69,\"temp_min\":2,\"temp_max\":2,\"pressure\":1017,\"sea_level\":1017,\"grnd_level\":978,\"humidity\":70,\"temp_kf\":0},\"weather\":[{\"id\":804,\"main\":\"Clouds\",\"description\":\"overcast clouds\",\"icon\":\"04d\"}],\"clouds\":{\"all\":99},\"wind\":{\"speed\":3.31,\"deg\":182},\"sys\":{\"pod\":\"d\"},\"dt_txt\":\"2020-01-14 09:00:00\"},{\"dt\":1579003200,\"main\":{\"temp\":5.71,\"feels_like\":1.22,\"temp_min\":5.71,\"temp_max\":5.71,\"pressure\":1017,\"sea_level\":1017,\"grnd_level\":978,\"humidity\":56,\"temp_kf\":0},\"weather\":[{\"id\":803,\"main\":\"Clouds\",\"description\":\"broken clouds\",\"icon\":\"04d\"}],\"clouds\":{\"all\":83},\"wind\":{\"speed\":3.11,\"deg\":199},\"sys\":{\"pod\":\"d\"},\"dt_txt\":\"2020-01-14 12:00:00\"},{\"dt\":1579014000,\"main\":{\"temp\":5.12,\"feels_like\":0.63,\"temp_min\":5.12,\"temp_max\":5.12,\"pressure\":1018,\"sea_level\":1018,\"grnd_level\":978,\"humidity\":60,\"temp_kf\":0},\"weather\":[{\"id\":804,\"main\":\"Clouds\",\"description\":\"overcast clouds\",\"icon\":\"04d\"}],\"clouds\":{\"all\":93},\"wind\":{\"speed\":3.18,\"deg\":188},\"sys\":{\"pod\":\"d\"},\"dt_txt\":\"2020-01-14 15:00:00\"},{\"dt\":1579024800,\"main\":{\"temp\":4.04,\"feels_like\":-0.8,\"temp_min\":4.04,\"temp_max\":4.04,\"pressure\":1019,\"sea_level\":1019,\"grnd_level\":979,\"humidity\":62,\"temp_kf\":0},\"weather\":[{\"id\":804,\"main\":\"Clouds\",\"description\":\"overcast clouds\",\"icon\":\"04n\"}],\"clouds\":{\"all\":97},\"wind\":{\"speed\":3.58,\"deg\":189},\"sys\":{\"pod\":\"n\"},\"dt_txt\":\"2020-01-14 18:00:00\"},{\"dt\":1579035600,\"main\":{\"temp\":2.86,\"feels_like\":-1.84,\"temp_min\":2.86,\"temp_max\":2.86,\"pressure\":1019,\"sea_level\":1019,\"grnd_level\":979,\"humidity\":65,\"temp_kf\":0},\"weather\":[{\"id\":803,\"main\":\"Clouds\",\"description\":\"broken clouds\",\"icon\":\"04n\"}],\"clouds\":{\"all\":76},\"wind\":{\"speed\":3.29,\"deg\":185},\"sys\":{\"pod\":\"n\"},\"dt_txt\":\"2020-01-14 21:00:00\"},{\"dt\":1579046400,\"main\":{\"temp\":2.4,\"feels_like\":-1.9,\"temp_min\":2.4,\"temp_max\":2.4,\"pressure\":1019,\"sea_level\":1019,\"grnd_level\":980,\"humidity\":68,\"temp_kf\":0},\"weather\":[{\"id\":803,\"main\":\"Clouds\",\"description\":\"broken clouds\",\"icon\":\"04n\"}],\"clouds\":{\"all\":82},\"wind\":{\"speed\":2.75,\"deg\":171},\"sys\":{\"pod\":\"n\"},\"dt_txt\":\"2020-01-15 00:00:00\"},{\"dt\":1579057200,\"main\":{\"temp\":2.16,\"feels_like\":-1.77,\"temp_min\":2.16,\"temp_max\":2.16,\"pressure\":1018,\"sea_level\":1018,\"grnd_level\":979,\"humidity\":70,\"temp_kf\":0},\"weather\":[{\"id\":804,\"main\":\"Clouds\",\"description\":\"overcast clouds\",\"icon\":\"04n\"}],\"clouds\":{\"all\":100},\"wind\":{\"speed\":2.25,\"deg\":174},\"sys\":{\"pod\":\"n\"},\"dt_txt\":\"2020-01-15 03:00:00\"},{\"dt\":1579068000,\"main\":{\"temp\":1.2,\"feels_like\":-2.51,\"temp_min\":1.2,\"temp_max\":1.2,\"pressure\":1018,\"sea_level\":1018,\"grnd_level\":979,\"humidity\":71,\"temp_kf\":0},\"weather\":[{\"id\":804,\"main\":\"Clouds\",\"description\":\"overcast clouds\",\"icon\":\"04n\"}],\"clouds\":{\"all\":93},\"wind\":{\"speed\":1.82,\"deg\":157},\"sys\":{\"pod\":\"n\"},\"dt_txt\":\"2020-01-15 06:00:00\"},{\"dt\":1579078800,\"main\":{\"temp\":2,\"feels_like\":-2.28,\"temp_min\":2,\"temp_max\":2,\"pressure\":1019,\"sea_level\":1019,\"grnd_level\":981,\"humidity\":70,\"temp_kf\":0},\"weather\":[{\"id\":803,\"main\":\"Clouds\",\"description\":\"broken clouds\",\"icon\":\"04d\"}],\"clouds\":{\"all\":72},\"wind\":{\"speed\":2.73,\"deg\":175},\"sys\":{\"pod\":\"d\"},\"dt_txt\":\"2020-01-15 09:00:00\"},{\"dt\":1579089600,\"main\":{\"temp\":3.81,\"feels_like\":-0.41,\"temp_min\":3.81,\"temp_max\":3.81,\"pressure\":1019,\"sea_level\":1019,\"grnd_level\":980,\"humidity\":67,\"temp_kf\":0},\"weather\":[{\"id\":804,\"main\":\"Clouds\",\"description\":\"overcast clouds\",\"icon\":\"04d\"}],\"clouds\":{\"all\":86},\"wind\":{\"speed\":2.85,\"deg\":175},\"sys\":{\"pod\":\"d\"},\"dt_txt\":\"2020-01-15 12:00:00\"},{\"dt\":1579100400,\"main\":{\"temp\":2.79,\"feels_like\":-1.41,\"temp_min\":2.79,\"temp_max\":2.79,\"pressure\":1019,\"sea_level\":1019,\"grnd_level\":980,\"humidity\":75,\"temp_kf\":0},\"weather\":[{\"id\":803,\"main\":\"Clouds\",\"description\":\"broken clouds\",\"icon\":\"04d\"}],\"clouds\":{\"all\":59},\"wind\":{\"speed\":2.93,\"deg\":165},\"sys\":{\"pod\":\"d\"},\"dt_txt\":\"2020-01-15 15:00:00\"},{\"dt\":1579111200,\"main\":{\"temp\":1,\"feels_like\":-2.94,\"temp_min\":1,\"temp_max\":1,\"pressure\":1021,\"sea_level\":1021,\"grnd_level\":982,\"humidity\":81,\"temp_kf\":0},\"weather\":[{\"id\":802,\"main\":\"Clouds\",\"description\":\"scattered clouds\",\"icon\":\"03n\"}],\"clouds\":{\"all\":47},\"wind\":{\"speed\":2.42,\"deg\":177},\"sys\":{\"pod\":\"n\"},\"dt_txt\":\"2020-01-15 18:00:00\"},{\"dt\":1579122000,\"main\":{\"temp\":1.15,\"feels_like\":-2.84,\"temp_min\":1.15,\"temp_max\":1.15,\"pressure\":1023,\"sea_level\":1023,\"grnd_level\":984,\"humidity\":78,\"temp_kf\":0},\"weather\":[{\"id\":804,\"main\":\"Clouds\",\"description\":\"overcast clouds\",\"icon\":\"04n\"}],\"clouds\":{\"all\":99},\"wind\":{\"speed\":2.43,\"deg\":199},\"sys\":{\"pod\":\"n\"},\"dt_txt\":\"2020-01-15 21:00:00\"},{\"dt\":1579132800,\"main\":{\"temp\":1.35,\"feels_like\":-2.91,\"temp_min\":1.35,\"temp_max\":1.35,\"pressure\":1024,\"sea_level\":1024,\"grnd_level\":985,\"humidity\":75,\"temp_kf\":0},\"weather\":[{\"id\":804,\"main\":\"Clouds\",\"description\":\"overcast clouds\",\"icon\":\"04n\"}],\"clouds\":{\"all\":99},\"wind\":{\"speed\":2.75,\"deg\":194},\"sys\":{\"pod\":\"n\"},\"dt_txt\":\"2020-01-16 00:00:00\"},{\"dt\":1579143600,\"main\":{\"temp\":1.52,\"feels_like\":-1.75,\"temp_min\":1.52,\"temp_max\":1.52,\"pressure\":1025,\"sea_level\":1025,\"grnd_level\":985,\"humidity\":76,\"temp_kf\":0},\"weather\":[{\"id\":804,\"main\":\"Clouds\",\"description\":\"overcast clouds\",\"icon\":\"04n\"}],\"clouds\":{\"all\":100},\"wind\":{\"speed\":1.4,\"deg\":194},\"sys\":{\"pod\":\"n\"},\"dt_txt\":\"2020-01-16 03:00:00\"},{\"dt\":1579154400,\"main\":{\"temp\":1.51,\"feels_like\":-1.65,\"temp_min\":1.51,\"temp_max\":1.51,\"pressure\":1026,\"sea_level\":1026,\"grnd_level\":986,\"humidity\":76,\"temp_kf\":0},\"weather\":[{\"id\":804,\"main\":\"Clouds\",\"description\":\"overcast clouds\",\"icon\":\"04n\"}],\"clouds\":{\"all\":100},\"wind\":{\"speed\":1.24,\"deg\":172},\"sys\":{\"pod\":\"n\"},\"dt_txt\":\"2020-01-16 06:00:00\"},{\"dt\":1579165200,\"main\":{\"temp\":3.48,\"feels_like\":0.26,\"temp_min\":3.48,\"temp_max\":3.48,\"pressure\":1027,\"sea_level\":1027,\"grnd_level\":987,\"humidity\":68,\"temp_kf\":0},\"weather\":[{\"id\":804,\"main\":\"Clouds\",\"description\":\"overcast clouds\",\"icon\":\"04d\"}],\"clouds\":{\"all\":87},\"wind\":{\"speed\":1.39,\"deg\":175},\"sys\":{\"pod\":\"d\"},\"dt_txt\":\"2020-01-16 09:00:00\"},{\"dt\":1579176000,\"main\":{\"temp\":6.27,\"feels_like\":3.32,\"temp_min\":6.27,\"temp_max\":6.27,\"pressure\":1025,\"sea_level\":1025,\"grnd_level\":986,\"humidity\":59,\"temp_kf\":0},\"weather\":[{\"id\":803,\"main\":\"Clouds\",\"description\":\"broken clouds\",\"icon\":\"04d\"}],\"clouds\":{\"all\":74},\"wind\":{\"speed\":1.14,\"deg\":131},\"sys\":{\"pod\":\"d\"},\"dt_txt\":\"2020-01-16 12:00:00\"},{\"dt\":1579186800,\"main\":{\"temp\":5.03,\"feels_like\":2.12,\"temp_min\":5.03,\"temp_max\":5.03,\"pressure\":1025,\"sea_level\":1025,\"grnd_level\":985,\"humidity\":70,\"temp_kf\":0},\"weather\":[{\"id\":802,\"main\":\"Clouds\",\"description\":\"scattered clouds\",\"icon\":\"03d\"}],\"clouds\":{\"all\":30},\"wind\":{\"speed\":1.32,\"deg\":115},\"sys\":{\"pod\":\"d\"},\"dt_txt\":\"2020-01-16 15:00:00\"},{\"dt\":1579197600,\"main\":{\"temp\":3.1,\"feels_like\":0.21,\"temp_min\":3.1,\"temp_max\":3.1,\"pressure\":1024,\"sea_level\":1024,\"grnd_level\":985,\"humidity\":81,\"temp_kf\":0},\"weather\":[{\"id\":801,\"main\":\"Clouds\",\"description\":\"few clouds\",\"icon\":\"02n\"}],\"clouds\":{\"all\":15},\"wind\":{\"speed\":1.32,\"deg\":134},\"sys\":{\"pod\":\"n\"},\"dt_txt\":\"2020-01-16 18:00:00\"},{\"dt\":1579208400,\"main\":{\"temp\":1.95,\"feels_like\":-0.85,\"temp_min\":1.95,\"temp_max\":1.95,\"pressure\":1024,\"sea_level\":1024,\"grnd_level\":984,\"humidity\":86,\"temp_kf\":0},\"weather\":[{\"id\":800,\"main\":\"Clear\",\"description\":\"clear sky\",\"icon\":\"01n\"}],\"clouds\":{\"all\":0},\"wind\":{\"speed\":1.14,\"deg\":140},\"sys\":{\"pod\":\"n\"},\"dt_txt\":\"2020-01-16 21:00:00\"},{\"dt\":1579219200,\"main\":{\"temp\":0.94,\"feels_like\":-2.73,\"temp_min\":0.94,\"temp_max\":0.94,\"pressure\":1022,\"sea_level\":1022,\"grnd_level\":983,\"humidity\":87,\"temp_kf\":0},\"weather\":[{\"id\":800,\"main\":\"Clear\",\"description\":\"clear sky\",\"icon\":\"01n\"}],\"clouds\":{\"all\":0},\"wind\":{\"speed\":2.21,\"deg\":128},\"sys\":{\"pod\":\"n\"},\"dt_txt\":\"2020-01-17 00:00:00\"},{\"dt\":1579230000,\"main\":{\"temp\":-0.21,\"feels_like\":-3.83,\"temp_min\":-0.21,\"temp_max\":-0.21,\"pressure\":1020,\"sea_level\":1020,\"grnd_level\":981,\"humidity\":87,\"temp_kf\":0},\"weather\":[{\"id\":800,\"main\":\"Clear\",\"description\":\"clear sky\",\"icon\":\"01n\"}],\"clouds\":{\"all\":0},\"wind\":{\"speed\":1.92,\"deg\":111},\"sys\":{\"pod\":\"n\"},\"dt_txt\":\"2020-01-17 03:00:00\"},{\"dt\":1579240800,\"main\":{\"temp\":-0.6,\"feels_like\":-4.69,\"temp_min\":-0.6,\"temp_max\":-0.6,\"pressure\":1019,\"sea_level\":1019,\"grnd_level\":980,\"humidity\":89,\"temp_kf\":0},\"weather\":[{\"id\":800,\"main\":\"Clear\",\"description\":\"clear sky\",\"icon\":\"01n\"}],\"clouds\":{\"all\":4},\"wind\":{\"speed\":2.58,\"deg\":154},\"sys\":{\"pod\":\"n\"},\"dt_txt\":\"2020-01-17 06:00:00\"},{\"dt\":1579251600,\"main\":{\"temp\":1.03,\"feels_like\":-3.29,\"temp_min\":1.03,\"temp_max\":1.03,\"pressure\":1019,\"sea_level\":1019,\"grnd_level\":980,\"humidity\":81,\"temp_kf\":0},\"weather\":[{\"id\":803,\"main\":\"Clouds\",\"description\":\"broken clouds\",\"icon\":\"04d\"}],\"clouds\":{\"all\":84},\"wind\":{\"speed\":2.97,\"deg\":183},\"sys\":{\"pod\":\"d\"},\"dt_txt\":\"2020-01-17 09:00:00\"}],\"city\":{\"id\":3067696,\"name\":\"Prague\",\"coord\":{\"lat\":50.088,\"lon\":14.4208},\"country\":\"CZ\",\"timezone\":3600,\"sunrise\":1578812263,\"sunset\":1578842555}}'\n",
    "json_data = json.loads(api_response)"
   ]
  },
  {
   "cell_type": "code",
   "execution_count": 3,
   "metadata": {},
   "outputs": [
    {
     "name": "stdout",
     "output_type": "stream",
     "text": [
      "Prediction for 2020-01-12 13:00:00: temperature: 5.6, wind: 3.5, precipitation: 0.0, pressure: 1026.0,\n",
      "Prediction for 2020-01-12 16:00:00: temperature: 4.1, wind: 3.6, precipitation: 0.0, pressure: 1025.0,\n",
      "Prediction for 2020-01-12 19:00:00: temperature: 2.5, wind: 4.2, precipitation: 0.0, pressure: 1026.0,\n",
      "Prediction for 2020-01-12 22:00:00: temperature: 2.5, wind: 4.6, precipitation: 0.0, pressure: 1026.0,\n",
      "Prediction for 2020-01-13 01:00:00: temperature: 2.3, wind: 3.3, precipitation: 0.0, pressure: 1026.0,\n",
      "Prediction for 2020-01-13 04:00:00: temperature: 1.7, wind: 3.6, precipitation: 0.0, pressure: 1025.0,\n",
      "Prediction for 2020-01-13 07:00:00: temperature: 2.0, wind: 3.8, precipitation: 0.0, pressure: 1026.0,\n",
      "Prediction for 2020-01-13 10:00:00: temperature: 3.5, wind: 3.0, precipitation: 0.0, pressure: 1025.0,\n",
      "Prediction for 2020-01-13 13:00:00: temperature: 5.9, wind: 1.9, precipitation: 0.0, pressure: 1023.0,\n",
      "Prediction for 2020-01-13 16:00:00: temperature: 3.7, wind: 1.6, precipitation: 0.0, pressure: 1021.0,\n",
      "Prediction for 2020-01-13 19:00:00: temperature: 2.4, wind: 2.5, precipitation: 0.0, pressure: 1021.0,\n",
      "Prediction for 2020-01-13 22:00:00: temperature: 1.4, wind: 3.4, precipitation: 0.0, pressure: 1020.0,\n",
      "Prediction for 2020-01-14 01:00:00: temperature: 1.0, wind: 2.7, precipitation: 0.0, pressure: 1019.0,\n",
      "Prediction for 2020-01-14 04:00:00: temperature: -0.5, wind: 2.6, precipitation: 0.0, pressure: 1017.0,\n",
      "Prediction for 2020-01-14 07:00:00: temperature: -0.2, wind: 2.2, precipitation: 0.0, pressure: 1018.0,\n",
      "Prediction for 2020-01-14 10:00:00: temperature: 2.0, wind: 3.3, precipitation: 0.0, pressure: 1017.0,\n",
      "Prediction for 2020-01-14 13:00:00: temperature: 5.7, wind: 3.1, precipitation: 0.0, pressure: 1017.0,\n",
      "Prediction for 2020-01-14 16:00:00: temperature: 5.1, wind: 3.2, precipitation: 0.0, pressure: 1018.0,\n",
      "Prediction for 2020-01-14 19:00:00: temperature: 4.0, wind: 3.6, precipitation: 0.0, pressure: 1019.0,\n",
      "Prediction for 2020-01-14 22:00:00: temperature: 2.9, wind: 3.3, precipitation: 0.0, pressure: 1019.0,\n",
      "Prediction for 2020-01-15 01:00:00: temperature: 2.4, wind: 2.8, precipitation: 0.0, pressure: 1019.0,\n",
      "Prediction for 2020-01-15 04:00:00: temperature: 2.2, wind: 2.2, precipitation: 0.0, pressure: 1018.0,\n",
      "Prediction for 2020-01-15 07:00:00: temperature: 1.2, wind: 1.8, precipitation: 0.0, pressure: 1018.0,\n",
      "Prediction for 2020-01-15 10:00:00: temperature: 2.0, wind: 2.7, precipitation: 0.0, pressure: 1019.0,\n",
      "Prediction for 2020-01-15 13:00:00: temperature: 3.8, wind: 2.9, precipitation: 0.0, pressure: 1019.0,\n",
      "Prediction for 2020-01-15 16:00:00: temperature: 2.8, wind: 2.9, precipitation: 0.0, pressure: 1019.0,\n",
      "Prediction for 2020-01-15 19:00:00: temperature: 1.0, wind: 2.4, precipitation: 0.0, pressure: 1021.0,\n",
      "Prediction for 2020-01-15 22:00:00: temperature: 1.1, wind: 2.4, precipitation: 0.0, pressure: 1023.0,\n",
      "Prediction for 2020-01-16 01:00:00: temperature: 1.4, wind: 2.8, precipitation: 0.0, pressure: 1024.0,\n",
      "Prediction for 2020-01-16 04:00:00: temperature: 1.5, wind: 1.4, precipitation: 0.0, pressure: 1025.0,\n",
      "Prediction for 2020-01-16 07:00:00: temperature: 1.5, wind: 1.2, precipitation: 0.0, pressure: 1026.0,\n",
      "Prediction for 2020-01-16 10:00:00: temperature: 3.5, wind: 1.4, precipitation: 0.0, pressure: 1027.0,\n",
      "Prediction for 2020-01-16 13:00:00: temperature: 6.3, wind: 1.1, precipitation: 0.0, pressure: 1025.0,\n",
      "Prediction for 2020-01-16 16:00:00: temperature: 5.0, wind: 1.3, precipitation: 0.0, pressure: 1025.0,\n",
      "Prediction for 2020-01-16 19:00:00: temperature: 3.1, wind: 1.3, precipitation: 0.0, pressure: 1024.0,\n",
      "Prediction for 2020-01-16 22:00:00: temperature: 1.9, wind: 1.1, precipitation: 0.0, pressure: 1024.0,\n",
      "Prediction for 2020-01-17 01:00:00: temperature: 0.9, wind: 2.2, precipitation: 0.0, pressure: 1022.0,\n",
      "Prediction for 2020-01-17 04:00:00: temperature: -0.2, wind: 1.9, precipitation: 0.0, pressure: 1020.0,\n",
      "Prediction for 2020-01-17 07:00:00: temperature: -0.6, wind: 2.6, precipitation: 0.0, pressure: 1019.0,\n",
      "Prediction for 2020-01-17 10:00:00: temperature: 1.0, wind: 3.0, precipitation: 0.0, pressure: 1019.0,\n"
     ]
    }
   ],
   "source": [
    "for weather_prediction in json_data['list']:\n",
    "    time = datetime.fromtimestamp(weather_prediction['dt']) #- timedelta(hours=1)\n",
    "    temperature = weather_prediction['main']['temp']\n",
    "    wind = weather_prediction['wind']['speed']\n",
    "\n",
    "    rain, snow = 0.0, 0.0\n",
    "    if 'rain' in weather_prediction['main']:\n",
    "         rain = weather_prediction['main']['rain']['3h']\n",
    "    if 'snow' in weather_prediction['main']:\n",
    "         rain = weather_prediction['main']['snow']['3h']\n",
    "\n",
    "    precipitation = rain + snow\n",
    "    pressure =  weather_prediction['main']['pressure']\n",
    "    print('Prediction for %s: temperature: %0.1f, wind: %0.1f, precipitation: %0.1f, pressure: %0.1f,'%(time, temperature,wind,precipitation,pressure))"
   ]
  },
  {
   "cell_type": "code",
   "execution_count": 4,
   "metadata": {},
   "outputs": [],
   "source": [
    "dh = DataHelper()\n",
    "test_days = dh.get_testing_days()\n",
    "train_days = dh.get_training_days()\n",
    "\n",
    "X_test = []\n",
    "Y_test = []\n",
    "X_train = []\n",
    "Y_train = []\n",
    "\n",
    "for day in test_days:\n",
    "    data = day.get_normalized_data()\n",
    "    data.drop(columns=['pool'], inplace=True)\n",
    "    X_test.append(data.to_numpy().T)\n",
    "    \n",
    "    data = day.data\n",
    "    Y_test.append(list(data['pool'].clip(0,399)))\n",
    "    \n",
    "for day in train_days:\n",
    "    data = day.get_normalized_data()\n",
    "    data.drop(columns=['pool'], inplace=True)\n",
    "    X_train.append(data.to_numpy().T)\n",
    "    \n",
    "    data = day.data\n",
    "    Y_train.append(list(data['pool'].clip(0,399)))"
   ]
  },
  {
   "cell_type": "code",
   "execution_count": 5,
   "metadata": {},
   "outputs": [
    {
     "name": "stdout",
     "output_type": "stream",
     "text": [
      "Fitting: "
     ]
    },
    {
     "ename": "NameError",
     "evalue": "name 'days' is not defined",
     "output_type": "error",
     "traceback": [
      "\u001b[0;31m---------------------------------------------------------------------------\u001b[0m",
      "\u001b[0;31mNameError\u001b[0m                                 Traceback (most recent call last)",
      "\u001b[0;32m<ipython-input-5-5b651b40447e>\u001b[0m in \u001b[0;36m<module>\u001b[0;34m\u001b[0m\n\u001b[1;32m      2\u001b[0m \u001b[0mp\u001b[0m\u001b[0;34m.\u001b[0m\u001b[0mletters\u001b[0m \u001b[0;34m=\u001b[0m \u001b[0;36m400\u001b[0m\u001b[0;34m\u001b[0m\u001b[0m\n\u001b[1;32m      3\u001b[0m \u001b[0mp\u001b[0m\u001b[0;34m.\u001b[0m\u001b[0md\u001b[0m \u001b[0;34m=\u001b[0m \u001b[0;36m55\u001b[0m\u001b[0;34m\u001b[0m\u001b[0m\n\u001b[0;32m----> 4\u001b[0;31m \u001b[0mp\u001b[0m\u001b[0;34m.\u001b[0m\u001b[0mfit\u001b[0m\u001b[0;34m(\u001b[0m\u001b[0mX_train\u001b[0m\u001b[0;34m,\u001b[0m \u001b[0mY_train\u001b[0m\u001b[0;34m,\u001b[0m \u001b[0;36m20\u001b[0m\u001b[0;34m,\u001b[0m \u001b[0;32mFalse\u001b[0m\u001b[0;34m)\u001b[0m\u001b[0;34m\u001b[0m\u001b[0m\n\u001b[0m",
      "\u001b[0;32m~/Programming/Projects/swimming_pool_attendance_prediction/models/perceptron.py\u001b[0m in \u001b[0;36mfit\u001b[0;34m(self, X, Y, max_iter, silent)\u001b[0m\n\u001b[1;32m    228\u001b[0m                 \u001b[0mprediction\u001b[0m \u001b[0;34m=\u001b[0m \u001b[0mself\u001b[0m\u001b[0;34m.\u001b[0m\u001b[0mpredict\u001b[0m\u001b[0;34m(\u001b[0m\u001b[0mX\u001b[0m\u001b[0;34m[\u001b[0m\u001b[0mimg_id\u001b[0m\u001b[0;34m]\u001b[0m\u001b[0;34m)\u001b[0m\u001b[0;34m\u001b[0m\u001b[0m\n\u001b[1;32m    229\u001b[0m                 \u001b[0mself\u001b[0m\u001b[0;34m.\u001b[0m\u001b[0mupdate_weights\u001b[0m\u001b[0;34m(\u001b[0m\u001b[0mX\u001b[0m\u001b[0;34m[\u001b[0m\u001b[0mimg_id\u001b[0m\u001b[0;34m]\u001b[0m\u001b[0;34m,\u001b[0m \u001b[0mY\u001b[0m\u001b[0;34m[\u001b[0m\u001b[0mimg_id\u001b[0m\u001b[0;34m]\u001b[0m\u001b[0;34m,\u001b[0m \u001b[0mprediction\u001b[0m\u001b[0;34m)\u001b[0m\u001b[0;34m\u001b[0m\u001b[0m\n\u001b[0;32m--> 230\u001b[0;31m                 \u001b[0;34m(\u001b[0m\u001b[0mseq_err\u001b[0m\u001b[0;34m,\u001b[0m \u001b[0mchar_err\u001b[0m\u001b[0;34m)\u001b[0m \u001b[0;34m=\u001b[0m \u001b[0mself\u001b[0m\u001b[0;34m.\u001b[0m\u001b[0mcompute_error\u001b[0m\u001b[0;34m(\u001b[0m\u001b[0mX\u001b[0m\u001b[0;34m,\u001b[0m \u001b[0mY\u001b[0m\u001b[0;34m,\u001b[0m \u001b[0msilent\u001b[0m\u001b[0;34m)\u001b[0m\u001b[0;34m\u001b[0m\u001b[0m\n\u001b[0m\u001b[1;32m    231\u001b[0m \u001b[0;34m\u001b[0m\u001b[0m\n\u001b[1;32m    232\u001b[0m             \u001b[0;32mif\u001b[0m \u001b[0miteration\u001b[0m\u001b[0;34m%\u001b[0m\u001b[0;36m5\u001b[0m\u001b[0;34m==\u001b[0m\u001b[0;36m0\u001b[0m\u001b[0;34m:\u001b[0m\u001b[0;34m\u001b[0m\u001b[0m\n",
      "\u001b[0;32m~/Programming/Projects/swimming_pool_attendance_prediction/models/perceptron.py\u001b[0m in \u001b[0;36mcompute_error\u001b[0;34m(self, X, Y, silent)\u001b[0m\n\u001b[1;32m    200\u001b[0m \u001b[0;34m\u001b[0m\u001b[0m\n\u001b[1;32m    201\u001b[0m         \u001b[0;32mfor\u001b[0m \u001b[0mimg_id\u001b[0m \u001b[0;32min\u001b[0m \u001b[0mrange\u001b[0m\u001b[0;34m(\u001b[0m\u001b[0mm\u001b[0m\u001b[0;34m)\u001b[0m\u001b[0;34m:\u001b[0m\u001b[0;34m\u001b[0m\u001b[0m\n\u001b[0;32m--> 202\u001b[0;31m             \u001b[0mdays\u001b[0m\u001b[0;34m.\u001b[0m\u001b[0mappend\u001b[0m\u001b[0;34m(\u001b[0m\u001b[0;34m[\u001b[0m\u001b[0;34m]\u001b[0m\u001b[0;34m)\u001b[0m\u001b[0;34m\u001b[0m\u001b[0m\n\u001b[0m\u001b[1;32m    203\u001b[0m             \u001b[0mprediction\u001b[0m \u001b[0;34m=\u001b[0m \u001b[0mself\u001b[0m\u001b[0;34m.\u001b[0m\u001b[0mpredict\u001b[0m\u001b[0;34m(\u001b[0m\u001b[0mX\u001b[0m\u001b[0;34m[\u001b[0m\u001b[0mimg_id\u001b[0m\u001b[0;34m]\u001b[0m\u001b[0;34m)\u001b[0m\u001b[0;34m\u001b[0m\u001b[0m\n\u001b[1;32m    204\u001b[0m             \u001b[0;32mfor\u001b[0m \u001b[0mletter_id\u001b[0m\u001b[0;34m,\u001b[0m \u001b[0mletter\u001b[0m \u001b[0;32min\u001b[0m \u001b[0menumerate\u001b[0m\u001b[0;34m(\u001b[0m\u001b[0mY\u001b[0m\u001b[0;34m[\u001b[0m\u001b[0mimg_id\u001b[0m\u001b[0;34m]\u001b[0m\u001b[0;34m)\u001b[0m\u001b[0;34m:\u001b[0m\u001b[0;34m\u001b[0m\u001b[0m\n",
      "\u001b[0;31mNameError\u001b[0m: name 'days' is not defined"
     ]
    }
   ],
   "source": [
    "p = LinearStructuredOutputClassifier()\n",
    "p.letters = 400\n",
    "p.d = 55\n",
    "p.fit(X_train, Y_train, 20, False)"
   ]
  },
  {
   "cell_type": "code",
   "execution_count": null,
   "metadata": {},
   "outputs": [],
   "source": []
  }
 ],
 "metadata": {
  "kernelspec": {
   "display_name": "Python 3",
   "language": "python",
   "name": "python3"
  },
  "language_info": {
   "codemirror_mode": {
    "name": "ipython",
    "version": 3
   },
   "file_extension": ".py",
   "mimetype": "text/x-python",
   "name": "python",
   "nbconvert_exporter": "python",
   "pygments_lexer": "ipython3",
   "version": "3.7.0"
  }
 },
 "nbformat": 4,
 "nbformat_minor": 2
}
