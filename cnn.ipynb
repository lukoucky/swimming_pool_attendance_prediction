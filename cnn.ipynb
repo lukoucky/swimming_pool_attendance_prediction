{
 "cells": [
  {
   "cell_type": "code",
   "execution_count": null,
   "metadata": {},
   "outputs": [],
   "source": [
    "from models.cnn import ConvolutionalNeuralNetwork\n",
    "from models.lstm import LongShortTermMemory\n",
    "from data_helper import DataHelper\n",
    "import numpy as np\n",
    "from keras.models import Sequential\n",
    "from keras.layers import Dense\n",
    "from keras.layers import Activation\n",
    "from keras.layers import Flatten\n",
    "from keras.layers import Dropout\n",
    "from keras.layers.convolutional import Conv1D\n",
    "from keras.layers.convolutional import MaxPooling1D\n",
    "from keras.layers import LSTM\n",
    "from keras.layers import ConvLSTM2D\n",
    "from keras.layers import Bidirectional\n",
    "from keras.layers import TimeDistributed\n",
    "import matplotlib.pyplot as plt\n",
    "import tensorflow as tf\n",
    "%matplotlib inline"
   ]
  },
  {
   "cell_type": "code",
   "execution_count": null,
   "metadata": {},
   "outputs": [],
   "source": [
    "dh = DataHelper()\n",
    "dh.get_all_columns_names()"
   ]
  },
  {
   "cell_type": "code",
   "execution_count": null,
   "metadata": {},
   "outputs": [],
   "source": [
    "columns = ['pool','lines_reserved','day_of_week','month','minute_of_day','year','reserved_Vodnik'] \n",
    "time_steps_back = 5\n",
    "estimator = LongShortTermMemory()\n",
    "estimator.setup(columns, time_steps_back)\n",
    "print(estimator.model.summary())\n",
    "for i in range(10):\n",
    "    estimator.fit_with_training_data(epochs=50)\n",
    "    estimator.print_mse()\n",
    "estimator.show_n_predictions('all')"
   ]
  },
  {
   "cell_type": "code",
   "execution_count": null,
   "metadata": {},
   "outputs": [],
   "source": [
    "estimator.fit_history.history.keys()\n",
    "# estimator.fit_history.history['loss']"
   ]
  },
  {
   "cell_type": "code",
   "execution_count": null,
   "metadata": {
    "scrolled": true
   },
   "outputs": [],
   "source": [
    "n_features = len(estimator.columns)\n",
    "estimator.model = Sequential()\n",
    "# estimator.model.add(Flatten(input_shape=(estimator.time_steps_back, n_features)))\n",
    "# estimator.model.add(Dense(int(estimator.time_steps_back*n_features), activation='relu'))\n",
    "# estimator.model.add(Dropout(0.2))\n",
    "# estimator.model.add(Dense(int(estimator.time_steps_back*n_features), activation='relu'))\n",
    "# estimator.model.add(Dropout(0.2))\n",
    "# estimator.model.add(Dense(int(estimator.time_steps_back*n_features), activation='relu'))\n",
    "\n",
    "# estimator.model.add(Conv1D(filters=120, kernel_size=2, activation='relu', input_shape=(time_steps_back, n_features)))\n",
    "# estimator.model.add(MaxPooling1D(pool_size=2))\n",
    "# estimator.model.add(Conv1D(filters=60, kernel_size=2, activation='relu'))\n",
    "# estimator.model.add(Dropout(0.2))\n",
    "# estimator.model.add(Flatten())\n",
    "# estimator.model.add(Dense(100, activation='relu'))\n",
    "# estimator.model.add(Dense(1))\n",
    "# estimator.model.compile(optimizer='adam', loss='mse')\n",
    "\n",
    "# estimator.model.add(LSTM(50, activation='relu', return_sequences=True, input_shape=(time_steps_back, n_features)))\n",
    "# estimator.model.add(LSTM(50, activation='relu'))\n",
    "\n",
    "estimator.model.add(Conv1D(filters=64, kernel_size=2, activation='relu', input_shape=(time_steps_back, n_features)))\n",
    "estimator.model.add(LSTM(50, activation='relu'))\n",
    "\n",
    "estimator.model.add(Dense(1))\n",
    "estimator.model.compile(optimizer='adam', loss='mse')\n",
    "print(estimator.model.summary())"
   ]
  },
  {
   "cell_type": "code",
   "execution_count": null,
   "metadata": {},
   "outputs": [],
   "source": [
    "columns = ['pool','lines_reserved','day_of_week','month','minute_of_day','year','reserved_Vodnik','temperature_binned', 'wind_binned', 'humidity_binned','precipitation_binned', 'pressure_binned',] \n",
    "time_steps_back = 5\n",
    "units = 50\n",
    "name = 'lstm_%d_bin_weather'%(units)\n",
    "estimator = LongShortTermMemory(name, units, 'bidir')\n",
    "estimator.setup(columns, time_steps_back)\n",
    "\n",
    "for i in range(25):\n",
    "    estimator.fit_with_training_data(epochs=10)\n",
    "    estimator.show_n_predictions(6)\n",
    "estimator.show_n_predictions('all')"
   ]
  },
  {
   "cell_type": "code",
   "execution_count": null,
   "metadata": {},
   "outputs": [],
   "source": [
    "dh = DataHelper()\n",
    "columns = list(dh.get_all_columns_names())\n",
    "columns.remove('time')\n",
    "\n",
    "time_steps_back = 9\n",
    "name = 'cnn_all_ts9'\n",
    "estimator = ConvolutionalNeuralNetwork(name)\n",
    "estimator.setup(columns, time_steps_back)\n",
    "\n",
    "for i in range(15):\n",
    "    estimator.fit_with_training_data(epochs=10)\n",
    "    estimator.show_n_predictions(6)"
   ]
  },
  {
   "cell_type": "code",
   "execution_count": null,
   "metadata": {},
   "outputs": [],
   "source": []
  }
 ],
 "metadata": {
  "kernelspec": {
   "display_name": "Python 3",
   "language": "python",
   "name": "python3"
  },
  "language_info": {
   "codemirror_mode": {
    "name": "ipython",
    "version": 3
   },
   "file_extension": ".py",
   "mimetype": "text/x-python",
   "name": "python",
   "nbconvert_exporter": "python",
   "pygments_lexer": "ipython3",
   "version": "3.6.6"
  }
 },
 "nbformat": 4,
 "nbformat_minor": 2
}
