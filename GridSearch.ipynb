{
 "cells": [
  {
   "cell_type": "code",
   "execution_count": 4,
   "metadata": {},
   "outputs": [],
   "source": [
    "from sklearn.ensemble import RandomForestClassifier\n",
    "from sklearn.ensemble import ExtraTreesClassifier\n",
    "from sklearn.svm import SVC\n",
    "from sklearn.ensemble import AdaBoostClassifier\n",
    "from data_helper import DataHelper\n",
    "from grid_search import MyGridSearch"
   ]
  },
  {
   "cell_type": "code",
   "execution_count": 14,
   "metadata": {},
   "outputs": [
    {
     "name": "stdout",
     "output_type": "stream",
     "text": [
      "1 out of 27 done for parameters RandomForestClassifier(random_state=17, n_estimators=20, max_depth=10, min_samples_split=2, min_samples_leaf=1) with score 10643.0, best MSE so far = 10643.0\n",
      "2 out of 27 done for parameters RandomForestClassifier(random_state=17, n_estimators=20, max_depth=10, min_samples_split=2, min_samples_leaf=2) with score 12497.5, best MSE so far = 10643.0\n",
      "3 out of 27 done for parameters RandomForestClassifier(random_state=17, n_estimators=20, max_depth=10, min_samples_split=2, min_samples_leaf=5) with score 12569.6, best MSE so far = 10643.0\n",
      "4 out of 27 done for parameters RandomForestClassifier(random_state=17, n_estimators=20, max_depth=10, min_samples_split=3, min_samples_leaf=1) with score 9811.8, best MSE so far = 9811.8\n",
      "5 out of 27 done for parameters RandomForestClassifier(random_state=17, n_estimators=20, max_depth=10, min_samples_split=3, min_samples_leaf=2) with score 12497.5, best MSE so far = 9811.8\n",
      "6 out of 27 done for parameters RandomForestClassifier(random_state=17, n_estimators=20, max_depth=10, min_samples_split=3, min_samples_leaf=5) with score 12569.6, best MSE so far = 9811.8\n",
      "7 out of 27 done for parameters RandomForestClassifier(random_state=17, n_estimators=20, max_depth=10, min_samples_split=5, min_samples_leaf=1) with score 10657.4, best MSE so far = 9811.8\n",
      "8 out of 27 done for parameters RandomForestClassifier(random_state=17, n_estimators=20, max_depth=10, min_samples_split=5, min_samples_leaf=2) with score 11122.9, best MSE so far = 9811.8\n",
      "9 out of 27 done for parameters RandomForestClassifier(random_state=17, n_estimators=20, max_depth=10, min_samples_split=5, min_samples_leaf=5) with score 12569.6, best MSE so far = 9811.8\n",
      "10 out of 27 done for parameters RandomForestClassifier(random_state=17, n_estimators=20, max_depth=20, min_samples_split=2, min_samples_leaf=1) with score 1726.3, best MSE so far = 1726.3\n",
      "11 out of 27 done for parameters RandomForestClassifier(random_state=17, n_estimators=20, max_depth=20, min_samples_split=2, min_samples_leaf=2) with score 7274.8, best MSE so far = 1726.3\n",
      "12 out of 27 done for parameters RandomForestClassifier(random_state=17, n_estimators=20, max_depth=20, min_samples_split=2, min_samples_leaf=5) with score 8204.7, best MSE so far = 1726.3\n",
      "13 out of 27 done for parameters RandomForestClassifier(random_state=17, n_estimators=20, max_depth=20, min_samples_split=3, min_samples_leaf=1) with score 1779.1, best MSE so far = 1726.3\n",
      "14 out of 27 done for parameters RandomForestClassifier(random_state=17, n_estimators=20, max_depth=20, min_samples_split=3, min_samples_leaf=2) with score 7274.8, best MSE so far = 1726.3\n",
      "15 out of 27 done for parameters RandomForestClassifier(random_state=17, n_estimators=20, max_depth=20, min_samples_split=3, min_samples_leaf=5) with score 8204.7, best MSE so far = 1726.3\n",
      "16 out of 27 done for parameters RandomForestClassifier(random_state=17, n_estimators=20, max_depth=20, min_samples_split=5, min_samples_leaf=1) with score 2072.2, best MSE so far = 1726.3\n",
      "17 out of 27 done for parameters RandomForestClassifier(random_state=17, n_estimators=20, max_depth=20, min_samples_split=5, min_samples_leaf=2) with score 8979.2, best MSE so far = 1726.3\n",
      "18 out of 27 done for parameters RandomForestClassifier(random_state=17, n_estimators=20, max_depth=20, min_samples_split=5, min_samples_leaf=5) with score 8204.7, best MSE so far = 1726.3\n",
      "19 out of 27 done for parameters RandomForestClassifier(random_state=17, n_estimators=20, max_depth=50, min_samples_split=2, min_samples_leaf=1) with score 2917.4, best MSE so far = 1726.3\n",
      "20 out of 27 done for parameters RandomForestClassifier(random_state=17, n_estimators=20, max_depth=50, min_samples_split=2, min_samples_leaf=2) with score 5368.5, best MSE so far = 1726.3\n",
      "21 out of 27 done for parameters RandomForestClassifier(random_state=17, n_estimators=20, max_depth=50, min_samples_split=2, min_samples_leaf=5) with score 10339.2, best MSE so far = 1726.3\n",
      "22 out of 27 done for parameters RandomForestClassifier(random_state=17, n_estimators=20, max_depth=50, min_samples_split=3, min_samples_leaf=1) with score 2247.7, best MSE so far = 1726.3\n",
      "23 out of 27 done for parameters RandomForestClassifier(random_state=17, n_estimators=20, max_depth=50, min_samples_split=3, min_samples_leaf=2) with score 5368.5, best MSE so far = 1726.3\n",
      "24 out of 27 done for parameters RandomForestClassifier(random_state=17, n_estimators=20, max_depth=50, min_samples_split=3, min_samples_leaf=5) with score 10339.2, best MSE so far = 1726.3\n",
      "25 out of 27 done for parameters RandomForestClassifier(random_state=17, n_estimators=20, max_depth=50, min_samples_split=5, min_samples_leaf=1) with score 2274.7, best MSE so far = 1726.3\n",
      "26 out of 27 done for parameters RandomForestClassifier(random_state=17, n_estimators=20, max_depth=50, min_samples_split=5, min_samples_leaf=2) with score 7822.0, best MSE so far = 1726.3\n",
      "27 out of 27 done for parameters RandomForestClassifier(random_state=17, n_estimators=20, max_depth=50, min_samples_split=5, min_samples_leaf=5) with score 10339.2, best MSE so far = 1726.3\n",
      "GridSearch for RandomForestClassifier done.\n",
      "Best MSE = 1726.3 for parameters:\n",
      "{'n_estimators': 20, 'max_depth': 20, 'min_samples_split': 2, 'min_samples_leaf': 1}\n",
      "Saving best estimator\n"
     ]
    }
   ],
   "source": [
    "parameteres = {\t'n_estimators': [20] ,\n",
    "                'max_depth': [10, 20, 50] ,\n",
    "                'min_samples_split': [2, 3, 5],\n",
    "                'min_samples_leaf': [1, 2, 5]}\n",
    "\n",
    "mgs = MyGridSearch('RandomForestClassifier',parameteres)\n",
    "mgs.fit()"
   ]
  },
  {
   "cell_type": "code",
   "execution_count": 15,
   "metadata": {},
   "outputs": [
    {
     "name": "stdout",
     "output_type": "stream",
     "text": [
      "1 out of 2 done for parameters AdaBoostClassifier(random_state=17, n_estimators=20, learning_rate=0.1) with score 16061.2, best MSE so far = 16061.2\n",
      "2 out of 2 done for parameters AdaBoostClassifier(random_state=17, n_estimators=20, learning_rate=0.2) with score 8867.6, best MSE so far = 8867.6\n",
      "GridSearch for AdaBoostClassifier done.\n",
      "Best MSE = 8867.6 for parameters:\n",
      "{'n_estimators': 20, 'learning_rate': 0.2}\n",
      "Saving best estimator\n"
     ]
    }
   ],
   "source": [
    "parameteres = {\t'n_estimators': [20],\n",
    "                'learning_rate': [0.1,0.2]}\n",
    "\n",
    "mgs = MyGridSearch('AdaBoostClassifier',parameteres)\n",
    "mgs.fit()"
   ]
  },
  {
   "cell_type": "code",
   "execution_count": null,
   "metadata": {},
   "outputs": [
    {
     "name": "stderr",
     "output_type": "stream",
     "text": [
      "C:\\Users\\Lukas\\Anaconda3\\lib\\site-packages\\sklearn\\svm\\base.py:196: FutureWarning: The default value of gamma will change from 'auto' to 'scale' in version 0.22 to account better for unscaled features. Set gamma explicitly to 'auto' or 'scale' to avoid this warning.\n",
      "  \"avoid this warning.\", FutureWarning)\n"
     ]
    },
    {
     "name": "stdout",
     "output_type": "stream",
     "text": [
      "1 out of 5 done for parameters SVC(random_state=17, C=0.001) with score 16137.2, best MSE so far = 16137.2\n"
     ]
    },
    {
     "name": "stderr",
     "output_type": "stream",
     "text": [
      "C:\\Users\\Lukas\\Anaconda3\\lib\\site-packages\\sklearn\\svm\\base.py:196: FutureWarning: The default value of gamma will change from 'auto' to 'scale' in version 0.22 to account better for unscaled features. Set gamma explicitly to 'auto' or 'scale' to avoid this warning.\n",
      "  \"avoid this warning.\", FutureWarning)\n"
     ]
    },
    {
     "name": "stdout",
     "output_type": "stream",
     "text": [
      "2 out of 5 done for parameters SVC(random_state=17, C=0.01) with score 16137.2, best MSE so far = 16137.2\n"
     ]
    },
    {
     "name": "stderr",
     "output_type": "stream",
     "text": [
      "C:\\Users\\Lukas\\Anaconda3\\lib\\site-packages\\sklearn\\svm\\base.py:196: FutureWarning: The default value of gamma will change from 'auto' to 'scale' in version 0.22 to account better for unscaled features. Set gamma explicitly to 'auto' or 'scale' to avoid this warning.\n",
      "  \"avoid this warning.\", FutureWarning)\n"
     ]
    },
    {
     "name": "stdout",
     "output_type": "stream",
     "text": [
      "3 out of 5 done for parameters SVC(random_state=17, C=0.1) with score 16137.2, best MSE so far = 16137.2\n"
     ]
    },
    {
     "name": "stderr",
     "output_type": "stream",
     "text": [
      "C:\\Users\\Lukas\\Anaconda3\\lib\\site-packages\\sklearn\\svm\\base.py:196: FutureWarning: The default value of gamma will change from 'auto' to 'scale' in version 0.22 to account better for unscaled features. Set gamma explicitly to 'auto' or 'scale' to avoid this warning.\n",
      "  \"avoid this warning.\", FutureWarning)\n"
     ]
    }
   ],
   "source": [
    "parameteres = {\t'C': [0.001, 0.01, 0.1, 1, 10],\n",
    "                'gamma': [0.001, 0.01, 0.1, 1]}\n",
    "parameteres = {\t'C': [0.001, 0.01, 0.1, 1, 10]}\n",
    "mgs = MyGridSearch('SVC',parameteres)\n",
    "mgs.fit(['pool','day_of_week','month','hour','minute'] )"
   ]
  },
  {
   "cell_type": "code",
   "execution_count": null,
   "metadata": {},
   "outputs": [],
   "source": []
  }
 ],
 "metadata": {
  "kernelspec": {
   "display_name": "Python 3",
   "language": "python",
   "name": "python3"
  },
  "language_info": {
   "codemirror_mode": {
    "name": "ipython",
    "version": 3
   },
   "file_extension": ".py",
   "mimetype": "text/x-python",
   "name": "python",
   "nbconvert_exporter": "python",
   "pygments_lexer": "ipython3",
   "version": "3.6.6"
  }
 },
 "nbformat": 4,
 "nbformat_minor": 2
}
