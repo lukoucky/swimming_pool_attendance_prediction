{
 "cells": [
  {
   "cell_type": "code",
   "execution_count": 2,
   "metadata": {},
   "outputs": [],
   "source": [
    "from sklearn.ensemble import RandomForestClassifier\n",
    "from sklearn.ensemble import ExtraTreesClassifier\n",
    "from sklearn.svm import SVC\n",
    "from sklearn.ensemble import AdaBoostClassifier\n",
    "from data_helper import DataHelper\n",
    "from grid_search import MyGridSearch"
   ]
  },
  {
   "cell_type": "code",
   "execution_count": 3,
   "metadata": {},
   "outputs": [
    {
     "name": "stdout",
     "output_type": "stream",
     "text": [
      "1 out of 4 done for parameters RandomForestClassifier(random_state=17, n_estimators=20, max_depth=20, min_samples_split=2, min_samples_leaf=1) with score 1416.8, best MSE so far = 1416.8\n",
      "2 out of 4 done for parameters RandomForestClassifier(random_state=17, n_estimators=20, max_depth=20, min_samples_split=5, min_samples_leaf=1) with score 1531.1, best MSE so far = 1416.8\n",
      "3 out of 4 done for parameters RandomForestClassifier(random_state=17, n_estimators=20, max_depth=50, min_samples_split=2, min_samples_leaf=1) with score 1431.4, best MSE so far = 1416.8\n",
      "4 out of 4 done for parameters RandomForestClassifier(random_state=17, n_estimators=20, max_depth=50, min_samples_split=5, min_samples_leaf=1) with score 2039.1, best MSE so far = 1416.8\n",
      "GridSearch for RandomForestClassifier done.\n",
      "Best MSE = 1416.8 for parameters:\n",
      "{'n_estimators': 20, 'max_depth': 20, 'min_samples_split': 2, 'min_samples_leaf': 1}\n",
      "Saving best estimator\n"
     ]
    }
   ],
   "source": [
    "columns = ['pool','day_of_week','month','hour','minute']\n",
    "parameteres = {\t'n_estimators': [20] ,\n",
    "                'max_depth': [20, 50] ,\n",
    "                'min_samples_split': [2, 5],\n",
    "                'min_samples_leaf': [1]}\n",
    "\n",
    "mgs = MyGridSearch('RandomForestClassifier',parameteres)\n",
    "mgs.fit(columns)"
   ]
  },
  {
   "cell_type": "code",
   "execution_count": 5,
   "metadata": {},
   "outputs": [
    {
     "name": "stdout",
     "output_type": "stream",
     "text": [
      "1 out of 9 done for parameters AdaBoostClassifier(random_state=17, n_estimators=20, learning_rate=0.01) with score 16099.4, best MSE so far = 16099.4\n",
      "2 out of 9 done for parameters AdaBoostClassifier(random_state=17, n_estimators=20, learning_rate=0.1) with score 16094.6, best MSE so far = 16094.6\n",
      "3 out of 9 done for parameters AdaBoostClassifier(random_state=17, n_estimators=20, learning_rate=0.5) with score 3434.1, best MSE so far = 3434.1\n",
      "4 out of 9 done for parameters AdaBoostClassifier(random_state=17, n_estimators=50, learning_rate=0.01) with score 16099.4, best MSE so far = 3434.1\n",
      "5 out of 9 done for parameters AdaBoostClassifier(random_state=17, n_estimators=50, learning_rate=0.1) with score 7749.7, best MSE so far = 3434.1\n",
      "6 out of 9 done for parameters AdaBoostClassifier(random_state=17, n_estimators=50, learning_rate=0.5) with score 3603.3, best MSE so far = 3434.1\n",
      "7 out of 9 done for parameters AdaBoostClassifier(random_state=17, n_estimators=100, learning_rate=0.01) with score 16099.4, best MSE so far = 3434.1\n",
      "8 out of 9 done for parameters AdaBoostClassifier(random_state=17, n_estimators=100, learning_rate=0.1) with score 6983.4, best MSE so far = 3434.1\n",
      "9 out of 9 done for parameters AdaBoostClassifier(random_state=17, n_estimators=100, learning_rate=0.5) with score 3929.7, best MSE so far = 3434.1\n",
      "GridSearch for AdaBoostClassifier done.\n",
      "Best MSE = 3434.1 for parameters:\n",
      "{'n_estimators': 20, 'learning_rate': 0.5}\n",
      "Saving best estimator\n"
     ]
    }
   ],
   "source": [
    "parameteres = {\t'n_estimators': [20, 50, 100],\n",
    "                'learning_rate': [0.01,0.1,0.5]}\n",
    "\n",
    "mgs = MyGridSearch('AdaBoostClassifier',parameteres)\n",
    "mgs.fit(columns)"
   ]
  },
  {
   "cell_type": "code",
   "execution_count": null,
   "metadata": {},
   "outputs": [
    {
     "name": "stderr",
     "output_type": "stream",
     "text": [
      "C:\\Users\\Lukas\\Anaconda3\\lib\\site-packages\\sklearn\\svm\\base.py:196: FutureWarning: The default value of gamma will change from 'auto' to 'scale' in version 0.22 to account better for unscaled features. Set gamma explicitly to 'auto' or 'scale' to avoid this warning.\n",
      "  \"avoid this warning.\", FutureWarning)\n"
     ]
    },
    {
     "name": "stdout",
     "output_type": "stream",
     "text": [
      "1 out of 5 done for parameters SVC(random_state=17, C=0.001) with score 16137.2, best MSE so far = 16137.2\n"
     ]
    },
    {
     "name": "stderr",
     "output_type": "stream",
     "text": [
      "C:\\Users\\Lukas\\Anaconda3\\lib\\site-packages\\sklearn\\svm\\base.py:196: FutureWarning: The default value of gamma will change from 'auto' to 'scale' in version 0.22 to account better for unscaled features. Set gamma explicitly to 'auto' or 'scale' to avoid this warning.\n",
      "  \"avoid this warning.\", FutureWarning)\n"
     ]
    },
    {
     "name": "stdout",
     "output_type": "stream",
     "text": [
      "2 out of 5 done for parameters SVC(random_state=17, C=0.01) with score 16137.2, best MSE so far = 16137.2\n"
     ]
    },
    {
     "name": "stderr",
     "output_type": "stream",
     "text": [
      "C:\\Users\\Lukas\\Anaconda3\\lib\\site-packages\\sklearn\\svm\\base.py:196: FutureWarning: The default value of gamma will change from 'auto' to 'scale' in version 0.22 to account better for unscaled features. Set gamma explicitly to 'auto' or 'scale' to avoid this warning.\n",
      "  \"avoid this warning.\", FutureWarning)\n"
     ]
    },
    {
     "name": "stdout",
     "output_type": "stream",
     "text": [
      "3 out of 5 done for parameters SVC(random_state=17, C=0.1) with score 16137.2, best MSE so far = 16137.2\n"
     ]
    },
    {
     "name": "stderr",
     "output_type": "stream",
     "text": [
      "C:\\Users\\Lukas\\Anaconda3\\lib\\site-packages\\sklearn\\svm\\base.py:196: FutureWarning: The default value of gamma will change from 'auto' to 'scale' in version 0.22 to account better for unscaled features. Set gamma explicitly to 'auto' or 'scale' to avoid this warning.\n",
      "  \"avoid this warning.\", FutureWarning)\n"
     ]
    }
   ],
   "source": [
    "parameteres = {\t'C': [0.001, 0.01, 0.1, 1, 10],\n",
    "                'gamma': [0.001, 0.01, 0.1, 1]}\n",
    "parameteres = {\t'C': [0.001, 0.01, 0.1, 1, 10]}\n",
    "mgs = MyGridSearch('SVC',parameteres)\n",
    "mgs.fit(['pool','day_of_week','month','hour','minute'] )"
   ]
  },
  {
   "cell_type": "code",
   "execution_count": null,
   "metadata": {},
   "outputs": [],
   "source": []
  }
 ],
 "metadata": {
  "kernelspec": {
   "display_name": "Python 3",
   "language": "python",
   "name": "python3"
  },
  "language_info": {
   "codemirror_mode": {
    "name": "ipython",
    "version": 3
   },
   "file_extension": ".py",
   "mimetype": "text/x-python",
   "name": "python",
   "nbconvert_exporter": "python",
   "pygments_lexer": "ipython3",
   "version": "3.7.0"
  }
 },
 "nbformat": 4,
 "nbformat_minor": 2
}
