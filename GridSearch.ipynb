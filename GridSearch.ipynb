{
 "cells": [
  {
   "cell_type": "code",
   "execution_count": 15,
   "metadata": {},
   "outputs": [],
   "source": [
    "from sklearn.ensemble import RandomForestClassifier\n",
    "from sklearn.ensemble import ExtraTreesClassifier\n",
    "from sklearn.svm import SVC\n",
    "from sklearn.ensemble import AdaBoostClassifier\n",
    "from data_helper import DataHelper\n",
    "from grid_search import MyGridSearch"
   ]
  },
  {
   "cell_type": "code",
   "execution_count": 17,
   "metadata": {},
   "outputs": [
    {
     "name": "stdout",
     "output_type": "stream",
     "text": [
      "1 out of 8 done for parameters ExtraTreesClassifier(random_state=17, n_estimators=20, max_depth=20, min_samples_split=2, min_samples_leaf=1) with score 1563.6, best MSE so far = 1563.6\n",
      "2 out of 8 done for parameters ExtraTreesClassifier(random_state=17, n_estimators=20, max_depth=20, min_samples_split=2, min_samples_leaf=2) with score 2849.7, best MSE so far = 1563.6\n",
      "3 out of 8 done for parameters ExtraTreesClassifier(random_state=17, n_estimators=20, max_depth=20, min_samples_split=5, min_samples_leaf=1) with score 1553.3, best MSE so far = 1553.3\n",
      "4 out of 8 done for parameters ExtraTreesClassifier(random_state=17, n_estimators=20, max_depth=20, min_samples_split=5, min_samples_leaf=2) with score 4545.4, best MSE so far = 1553.3\n",
      "5 out of 8 done for parameters ExtraTreesClassifier(random_state=17, n_estimators=20, max_depth=50, min_samples_split=2, min_samples_leaf=1) with score 1440.9, best MSE so far = 1440.9\n",
      "6 out of 8 done for parameters ExtraTreesClassifier(random_state=17, n_estimators=20, max_depth=50, min_samples_split=2, min_samples_leaf=2) with score 2254.5, best MSE so far = 1440.9\n",
      "7 out of 8 done for parameters ExtraTreesClassifier(random_state=17, n_estimators=20, max_depth=50, min_samples_split=5, min_samples_leaf=1) with score 1484.6, best MSE so far = 1440.9\n",
      "8 out of 8 done for parameters ExtraTreesClassifier(random_state=17, n_estimators=20, max_depth=50, min_samples_split=5, min_samples_leaf=2) with score 2177.2, best MSE so far = 1440.9\n",
      "GridSearch for ExtraTreesClassifier done.\n",
      "Best MSE = 1440.9 for parameters:\n",
      "{'n_estimators': 20, 'max_depth': 50, 'min_samples_split': 2, 'min_samples_leaf': 1}\n",
      "Saving best estimator\n"
     ]
    }
   ],
   "source": [
    "columns = ['pool','day_of_week','month','minute_of_day','year']\n",
    "# Add weather\n",
    "parameteres = {\t'n_estimators': [20] ,\n",
    "                'max_depth': [20, 50] ,\n",
    "                'min_samples_split': [2, 5],\n",
    "                'min_samples_leaf': [1, 2]}\n",
    "\n",
    "mgs = MyGridSearch('ExtraTreesClassifier',parameteres)\n",
    "mgs.fit(columns)"
   ]
  },
  {
   "cell_type": "code",
   "execution_count": null,
   "metadata": {},
   "outputs": [],
   "source": [
    "parameteres = {\t'n_estimators': [20, 50, 100],\n",
    "                'learning_rate': [0.01,0.1,0.5]}\n",
    "\n",
    "mgs = MyGridSearch('AdaBoostClassifier',parameteres)\n",
    "mgs.fit(columns)"
   ]
  },
  {
   "cell_type": "code",
   "execution_count": null,
   "metadata": {},
   "outputs": [],
   "source": [
    "parameteres = {\t'C': [0.001, 0.01, 0.1, 1, 10],\n",
    "                'gamma': [0.001, 0.01, 0.1, 1]}\n",
    "parameteres = {\t'C': [0.001, 0.01, 0.1, 1, 10]}\n",
    "mgs = MyGridSearch('SVC',parameteres)\n",
    "mgs.fit(['pool','day_of_week','month','hour','minute'] )"
   ]
  },
  {
   "cell_type": "code",
   "execution_count": 11,
   "metadata": {},
   "outputs": [],
   "source": [
    "from hmmlearn.hmm import MultinomialHMM, GaussianHMM\n",
    "import numpy as np"
   ]
  },
  {
   "cell_type": "code",
   "execution_count": 3,
   "metadata": {},
   "outputs": [
    {
     "name": "stdout",
     "output_type": "stream",
     "text": [
      "[[ 0.  0.  3.]\n",
      " [ 0.  0.  3.]\n",
      " [ 0.  0.  3.]\n",
      " ...\n",
      " [27.  0.  3.]\n",
      " [21.  0.  3.]\n",
      " [14.  0.  3.]]\n"
     ]
    }
   ],
   "source": [
    "dh = DataHelper()\n",
    "columns = ['pool','lines_reserved','day_of_week']\n",
    "x_train, y_train, x_test, y_test = dh.generate_feature_vectors(columns, 1)\n",
    "print(x_train)"
   ]
  },
  {
   "cell_type": "code",
   "execution_count": 12,
   "metadata": {},
   "outputs": [],
   "source": [
    "x, x_len = dh.generate_feature_vectors_for_hmm(columns)\n",
    "g = GaussianHMM(n_components=400)"
   ]
  },
  {
   "cell_type": "code",
   "execution_count": 13,
   "metadata": {},
   "outputs": [
    {
     "data": {
      "text/plain": [
       "GaussianHMM(algorithm='viterbi', covariance_type='diag', covars_prior=0.01,\n",
       "      covars_weight=1, init_params='stmc', means_prior=0, means_weight=0,\n",
       "      min_covar=0.001, n_components=400, n_iter=10, params='stmc',\n",
       "      random_state=None, startprob_prior=1.0, tol=0.01, transmat_prior=1.0,\n",
       "      verbose=False)"
      ]
     },
     "execution_count": 13,
     "metadata": {},
     "output_type": "execute_result"
    }
   ],
   "source": [
    "g.fit(x, x_len)"
   ]
  },
  {
   "cell_type": "code",
   "execution_count": 14,
   "metadata": {},
   "outputs": [],
   "source": [
    "import pickle\n",
    "with open(\"gmm.pkl\", \"wb\") as file: pickle.dump(g, file)"
   ]
  },
  {
   "cell_type": "code",
   "execution_count": null,
   "metadata": {},
   "outputs": [],
   "source": []
  }
 ],
 "metadata": {
  "kernelspec": {
   "display_name": "Python 3",
   "language": "python",
   "name": "python3"
  },
  "language_info": {
   "codemirror_mode": {
    "name": "ipython",
    "version": 3
   },
   "file_extension": ".py",
   "mimetype": "text/x-python",
   "name": "python",
   "nbconvert_exporter": "python",
   "pygments_lexer": "ipython3",
   "version": "3.7.0"
  }
 },
 "nbformat": 4,
 "nbformat_minor": 2
}
