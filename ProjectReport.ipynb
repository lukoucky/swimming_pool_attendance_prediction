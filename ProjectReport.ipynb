{
 "cells": [
  {
   "cell_type": "markdown",
   "metadata": {},
   "source": [
    "# Project Report\n",
    "Notebook with images for report"
   ]
  },
  {
   "cell_type": "code",
   "execution_count": null,
   "metadata": {},
   "outputs": [],
   "source": [
    "from days_statistics import DaysStatistics\n",
    "from data_helper import DataHelper\n",
    "import pickle\n",
    "import pandas as pd\n",
    "import numpy as np\n",
    "from datetime import datetime\n",
    "from datetime import timedelta\n",
    "import matplotlib.pyplot as plt\n",
    "from matplotlib.ticker import (AutoMinorLocator, MultipleLocator)\n",
    "import matplotlib._color_data as mcd\n",
    "%matplotlib inline\n",
    "dh = DataHelper()"
   ]
  },
  {
   "cell_type": "code",
   "execution_count": null,
   "metadata": {},
   "outputs": [],
   "source": [
    "def prepare_plot(size=(16,9), ax=None, y_max=250, every_hour=True, no_y_change=False):\n",
    "    if ax is None:\n",
    "        fig, ax = plt.subplots(figsize=size)\n",
    "\n",
    "    ax.set_xlim(60, 276)\n",
    "    ax.set_ylim(0, y_max)\n",
    "    \n",
    "    if False == no_y_change:\n",
    "        ax.yaxis.set_major_locator(MultipleLocator(50))\n",
    "        ax.yaxis.set_minor_locator(AutoMinorLocator(5))\n",
    "    \n",
    "    if every_hour:\n",
    "        ax.xaxis.set_major_locator(MultipleLocator(12))\n",
    "        ax.xaxis.set_minor_locator(AutoMinorLocator(4))\n",
    "    else:\n",
    "        ax.xaxis.set_major_locator(MultipleLocator(24))\n",
    "        ax.xaxis.set_minor_locator(AutoMinorLocator(9))\n",
    "    \n",
    "    # Turn grid on for both major and minor ticks and style minor slightly\n",
    "    # differently.\n",
    "    ax.grid(which='major', color='#CCCCCC', linestyle='--')\n",
    "    ax.grid(which='minor', color='#CCCCCC', linestyle=':')\n",
    "    ax.set_xlabel('Time [hour:minute]', fontsize=14)\n",
    "    ax.set_ylabel('Pool attendance', fontsize=14)\n",
    "    return ax"
   ]
  },
  {
   "cell_type": "code",
   "execution_count": null,
   "metadata": {},
   "outputs": [],
   "source": [
    "def plot_attandace_vs(data, column):\n",
    "    values = data[column].unique()\n",
    "    if len(values) > 10:\n",
    "        print('Too many values to plot. Consider clustering. Number of unique values for %s is %d'%(column, len(values)))\n",
    "        return\n",
    "   \n",
    "    bad_dates = ['2018-02-20','2018-06-05','2018-06-06','2018-06-07','2018-06-08','2018-06-11',\n",
    "                 '2018-06-12','2018-06-13','2018-06-14','2018-09-05','2018-03-17','2018-05-05',\n",
    "                 '2018-06-10','2018-12-01']\n",
    "    values.sort()\n",
    "    histogram = dict()\n",
    "    n = dict()\n",
    "    \n",
    "    for value in values:\n",
    "        histogram[value] = [0]*288\n",
    "        n[value] = [0]*288\n",
    "\n",
    "    for index, row in data.iterrows():\n",
    "        ts = datetime.strptime(row['time'], '%Y-%m-%d %H:%M:%S')\n",
    "        slot_id = (ts.hour*12) + int(ts.minute/5)\n",
    "        if row['day_of_week'] < 9 and row['pool'] > 0 and ts.strftime('%Y-%m-%d') not in bad_dates:\n",
    "#             if row[column] > 4 and slot_id < 120:\n",
    "#                 print(row['pool'], row['time'])\n",
    "            histogram[row[column]][slot_id] += row['pool']\n",
    "            n[row[column]][slot_id] += 1\n",
    "    \n",
    "    for value in values:\n",
    "        for index, slot in enumerate(histogram[value]):\n",
    "            if n[value][index] > 0:\n",
    "                histogram[value][index] = histogram[value][index] / n[value][index]\n",
    "\n",
    "    return histogram\n",
    "\n",
    "df = pd.read_csv(dh.csv_path)\n",
    "histogram = plot_attandace_vs(df, 'day_of_week')"
   ]
  },
  {
   "cell_type": "code",
   "execution_count": null,
   "metadata": {},
   "outputs": [],
   "source": [
    "a = datetime(2000, 1, 1, 23, 55, 0, 342380)\n",
    "y = []\n",
    "for i in range(288):\n",
    "    a = a + timedelta(minutes=5)\n",
    "    y.append(a.strftime('%H:%M'))\n",
    "\n",
    "days = ['Monday', 'Tuesday', 'Wednesday', 'Thuresday', 'Friday', 'Saturday', 'Sunday']\n",
    "n_start = 60\n",
    "n_stop = 275\n",
    "ax = prepare_plot()\n",
    "for i, key in enumerate(histogram.keys()):\n",
    "    ax.plot(y, histogram[key], label=days[i])\n",
    "\n",
    "ax.legend(prop={'size': 18})\n",
    "# plt.show()    \n",
    "plt.savefig('averages.png', dpi=300, bbox_inches='tight')"
   ]
  },
  {
   "cell_type": "code",
   "execution_count": null,
   "metadata": {},
   "outputs": [],
   "source": [
    "ds = DaysStatistics()\n",
    "months = ['January', 'February', 'March', 'April', 'May', 'June', 'July', 'August', 'September', 'October', 'November', 'December']\n",
    "fig, axs = plt.subplots(6, 2, figsize=(16,25), gridspec_kw={'hspace': 0.4})\n",
    "column = 0\n",
    "row = 0\n",
    "for i in range(12):\n",
    "    data = ds.get_average_for_month(i, False)   \n",
    "    data_weekend = ds.get_average_for_month(i, True) \n",
    "    prepare_plot((8,3), axs[row, column], 300, False)\n",
    "    axs[row, column].set_title(months[i], fontsize=14)\n",
    "    l1 = axs[row, column].plot(y, data)\n",
    "    l2 = axs[row, column].plot(y, data_weekend)\n",
    "    column += 1\n",
    "    if column > 1:\n",
    "        column = 0\n",
    "        row += 1\n",
    "plt.savefig('monthly_averages.png', dpi=300, bbox_inches='tight')"
   ]
  },
  {
   "cell_type": "code",
   "execution_count": null,
   "metadata": {},
   "outputs": [],
   "source": [
    "ds = DaysStatistics()\n",
    "months = ['January', 'February', 'March', 'April', 'May', 'June', 'July', 'August', 'September', 'October', 'November', 'December']\n",
    "colors = ['#1f77b4','#ff7f0e','#2ca02c','#d62728','#9467bd','#8c564b','#e377c2','#7f7f7f','#bcbd22','#17becf','#000000','#FFD700']\n",
    "\n",
    "fig, axs = plt.subplots(2, 1, figsize=(16,16))\n",
    "ax_weekday = prepare_plot((16,7), axs[0])\n",
    "ax_weekday.set_title('Weekday monthly average attendance', fontsize=14)\n",
    "ax_weekend = prepare_plot((16,9), axs[1], 300)\n",
    "ax_weekend.set_title('Weekend monthly average attendance', fontsize=14)\n",
    "\n",
    "for i in range(12):\n",
    "    data = ds.get_average_for_month(i, False)   \n",
    "    data_weekend = ds.get_average_for_month(i, True) \n",
    "    \n",
    "    ax_weekday.plot(y, data, color=colors[i])\n",
    "    ax_weekend.plot(y, data_weekend, color=colors[i], label=months[i])\n",
    "\n",
    "ax_weekend.legend(prop={'size': 18})\n",
    "plt.savefig('monthly_averages_together.png', dpi=300, bbox_inches='tight')"
   ]
  },
  {
   "cell_type": "code",
   "execution_count": null,
   "metadata": {},
   "outputs": [],
   "source": [
    "days = dh.get_all_days_list()\n",
    "train_days = dh.get_training_days(False)\n",
    "test_days = dh.get_testing_days()\n",
    "valid_days = dh.get_validation_days()"
   ]
  },
  {
   "cell_type": "code",
   "execution_count": null,
   "metadata": {},
   "outputs": [],
   "source": [
    "days[17].data.head()"
   ]
  },
  {
   "cell_type": "code",
   "execution_count": null,
   "metadata": {},
   "outputs": [],
   "source": [
    "\n",
    "days[17].data.describe()"
   ]
  },
  {
   "cell_type": "code",
   "execution_count": null,
   "metadata": {},
   "outputs": [],
   "source": [
    "n_samples = 0\n",
    "pool = 0\n",
    "pool_n = 0\n",
    "\n",
    "for day in days:\n",
    "    n_samples += len(day.data)\n",
    "    pool += sum(day.data['pool'])\n",
    "    pool_n += len(day.data['pool'])\n",
    "    "
   ]
  },
  {
   "cell_type": "code",
   "execution_count": null,
   "metadata": {},
   "outputs": [],
   "source": [
    "print('There are %d days in complete dataset. %d training days, %d testing days and %d validation days'%(len(days), len(train_days), len(valid_days), len(test_days)))\n",
    "print('There are %d data samples'%(n_samples))\n",
    "print('Average pool attendance is %d people'%(pool/pool_n))"
   ]
  },
  {
   "cell_type": "code",
   "execution_count": null,
   "metadata": {},
   "outputs": [],
   "source": [
    "all_df = []\n",
    "for day in days:\n",
    "    all_df.append(day.data)\n",
    "big_df = pd.concat(all_df)"
   ]
  },
  {
   "cell_type": "code",
   "execution_count": null,
   "metadata": {},
   "outputs": [],
   "source": [
    "reserved = []\n",
    "for column in big_df.columns:\n",
    "    if column.startswith('reserved_'):\n",
    "        reserved.append(column)\n",
    "print(reserved)"
   ]
  },
  {
   "cell_type": "code",
   "execution_count": null,
   "metadata": {},
   "outputs": [],
   "source": [
    "big_df['reserved'] = 0\n",
    "for column in reserved:\n",
    "    big_df['reserved'] += big_df[column]\n",
    "big_df.drop(reserved, axis=1,inplace=True)\n",
    "print(big_df.columns)"
   ]
  },
  {
   "cell_type": "code",
   "execution_count": null,
   "metadata": {},
   "outputs": [],
   "source": [
    "big_df.describe()"
   ]
  },
  {
   "cell_type": "code",
   "execution_count": null,
   "metadata": {},
   "outputs": [],
   "source": [
    "ds = DaysStatistics()\n",
    "n_weekday = [0]*288\n",
    "sums_weekday = [0]*288\n",
    "n_weekend = [0]*288\n",
    "sums_weekend = [0]*288\n",
    "\n",
    "for index, row in big_df.iterrows():\n",
    "    day_id = ds.get_list_id(row['hour'], row['minute'])\n",
    "    if row['day_of_week'] < 5:\n",
    "        sums_weekday[day_id] += int(row['lines_reserved'])\n",
    "        n_weekday[day_id] += 1\n",
    "    else:\n",
    "        sums_weekend[day_id] += int(row['lines_reserved'])\n",
    "        n_weekend[day_id] += 1\n",
    "\n",
    "avg_weekday = [0]*288\n",
    "avg_weekend = [0]*288\n",
    "for i in range(288):\n",
    "    if sums_weekday[i] > 0:\n",
    "        avg_weekday[i] = sums_weekday[i]/n_weekday[i]\n",
    "    if sums_weekend[i] > 0:\n",
    "        avg_weekend[i] = sums_weekend[i]/n_weekend[i]"
   ]
  },
  {
   "cell_type": "code",
   "execution_count": null,
   "metadata": {},
   "outputs": [],
   "source": [
    "ax = prepare_plot((16,9), None, 3, no_y_change=True)\n",
    "ax.plot(y, avg_weekday, label='Weekdays')\n",
    "ax.plot(y, avg_weekend, label='Weekend days')\n",
    "ax.set_ylabel('Reserved lines', fontsize=14)\n",
    "ax.legend(prop={'size': 18})  \n",
    "plt.savefig('avg_lines.png', dpi=300, bbox_inches='tight')"
   ]
  },
  {
   "cell_type": "code",
   "execution_count": null,
   "metadata": {},
   "outputs": [],
   "source": []
  }
 ],
 "metadata": {
  "kernelspec": {
   "display_name": "Python 3",
   "language": "python",
   "name": "python3"
  },
  "language_info": {
   "codemirror_mode": {
    "name": "ipython",
    "version": 3
   },
   "file_extension": ".py",
   "mimetype": "text/x-python",
   "name": "python",
   "nbconvert_exporter": "python",
   "pygments_lexer": "ipython3",
   "version": "3.7.7"
  }
 },
 "nbformat": 4,
 "nbformat_minor": 2
}
